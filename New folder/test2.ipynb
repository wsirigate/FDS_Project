{
 "cells": [
  {
   "cell_type": "code",
   "execution_count": 1,
   "metadata": {},
   "outputs": [],
   "source": [
    "import pandas as pd"
   ]
  },
  {
   "cell_type": "code",
   "execution_count": 2,
   "metadata": {},
   "outputs": [],
   "source": [
    "df = pd.read_csv(\"123456.csv\")"
   ]
  },
  {
   "cell_type": "code",
   "execution_count": 3,
   "metadata": {},
   "outputs": [
    {
     "data": {
      "text/html": [
       "<div>\n",
       "<style scoped>\n",
       "    .dataframe tbody tr th:only-of-type {\n",
       "        vertical-align: middle;\n",
       "    }\n",
       "\n",
       "    .dataframe tbody tr th {\n",
       "        vertical-align: top;\n",
       "    }\n",
       "\n",
       "    .dataframe thead th {\n",
       "        text-align: right;\n",
       "    }\n",
       "</style>\n",
       "<table border=\"1\" class=\"dataframe\">\n",
       "  <thead>\n",
       "    <tr style=\"text-align: right;\">\n",
       "      <th></th>\n",
       "      <th>Unnamed: 0</th>\n",
       "      <th>zone</th>\n",
       "      <th>province</th>\n",
       "      <th>type</th>\n",
       "      <th>2545</th>\n",
       "      <th>2547</th>\n",
       "      <th>2549</th>\n",
       "      <th>2550</th>\n",
       "      <th>2552</th>\n",
       "      <th>2554</th>\n",
       "      <th>2556</th>\n",
       "      <th>2558</th>\n",
       "      <th>2560</th>\n",
       "      <th>group</th>\n",
       "    </tr>\n",
       "  </thead>\n",
       "  <tbody>\n",
       "    <tr>\n",
       "      <th>0</th>\n",
       "      <td>0</td>\n",
       "      <td>ภาคกลาง</td>\n",
       "      <td>กรุงเทพมหานคร</td>\n",
       "      <td>เพื่อใช้จ่ายในครัวเรือน</td>\n",
       "      <td>117724.88</td>\n",
       "      <td>37388.46</td>\n",
       "      <td>31693</td>\n",
       "      <td>38184</td>\n",
       "      <td>44146</td>\n",
       "      <td>57018.3</td>\n",
       "      <td>72056.7</td>\n",
       "      <td>52384.4</td>\n",
       "      <td>65061.29</td>\n",
       "      <td>0</td>\n",
       "    </tr>\n",
       "    <tr>\n",
       "      <th>1</th>\n",
       "      <td>1</td>\n",
       "      <td>ภาคกลาง</td>\n",
       "      <td>กรุงเทพมหานคร</td>\n",
       "      <td>เพื่อใช้ทำธุรกิจที่ไม่ใช่การเกษตร</td>\n",
       "      <td>44118.82</td>\n",
       "      <td>31081.73</td>\n",
       "      <td>48960</td>\n",
       "      <td>27517</td>\n",
       "      <td>51720</td>\n",
       "      <td>15421.8</td>\n",
       "      <td>16311.5</td>\n",
       "      <td>12717.4</td>\n",
       "      <td>10537.76</td>\n",
       "      <td>2</td>\n",
       "    </tr>\n",
       "    <tr>\n",
       "      <th>2</th>\n",
       "      <td>2</td>\n",
       "      <td>ภาคกลาง</td>\n",
       "      <td>กรุงเทพมหานคร</td>\n",
       "      <td>เพื่อใช้ทำการเกษตร</td>\n",
       "      <td>85.69</td>\n",
       "      <td>445.82</td>\n",
       "      <td>1189</td>\n",
       "      <td>3298</td>\n",
       "      <td>600</td>\n",
       "      <td>1273.0</td>\n",
       "      <td>709.8</td>\n",
       "      <td>310.9</td>\n",
       "      <td>10.80</td>\n",
       "      <td>1</td>\n",
       "    </tr>\n",
       "    <tr>\n",
       "      <th>3</th>\n",
       "      <td>3</td>\n",
       "      <td>ภาคกลาง</td>\n",
       "      <td>กรุงเทพมหานคร</td>\n",
       "      <td>เพื่อใช้ในการศึกษา</td>\n",
       "      <td>0.00</td>\n",
       "      <td>0.00</td>\n",
       "      <td>4362</td>\n",
       "      <td>4953</td>\n",
       "      <td>5249</td>\n",
       "      <td>4287.7</td>\n",
       "      <td>3099.1</td>\n",
       "      <td>1229.9</td>\n",
       "      <td>2261.56</td>\n",
       "      <td>1</td>\n",
       "    </tr>\n",
       "    <tr>\n",
       "      <th>4</th>\n",
       "      <td>4</td>\n",
       "      <td>ภาคกลาง</td>\n",
       "      <td>กรุงเทพมหานคร</td>\n",
       "      <td>เพื่อใช้ซื้อ/เช่าซื้อบ้านและที่ดิน</td>\n",
       "      <td>0.00</td>\n",
       "      <td>86207.61</td>\n",
       "      <td>68779</td>\n",
       "      <td>67457</td>\n",
       "      <td>102121</td>\n",
       "      <td>136961.9</td>\n",
       "      <td>180382.5</td>\n",
       "      <td>97246.0</td>\n",
       "      <td>123080.32</td>\n",
       "      <td>3</td>\n",
       "    </tr>\n",
       "    <tr>\n",
       "      <th>5</th>\n",
       "      <td>5</td>\n",
       "      <td>ภาคกลาง</td>\n",
       "      <td>กรุงเทพมหานคร</td>\n",
       "      <td>อื่น ๆ</td>\n",
       "      <td>269.82</td>\n",
       "      <td>5652.28</td>\n",
       "      <td>3076</td>\n",
       "      <td>13986</td>\n",
       "      <td>3830</td>\n",
       "      <td>3778.9</td>\n",
       "      <td>3017.1</td>\n",
       "      <td>817.0</td>\n",
       "      <td>1748.11</td>\n",
       "      <td>1</td>\n",
       "    </tr>\n",
       "    <tr>\n",
       "      <th>6</th>\n",
       "      <td>6</td>\n",
       "      <td>ภาคกลาง</td>\n",
       "      <td>สมุทรปราการ</td>\n",
       "      <td>เพื่อใช้จ่ายในครัวเรือน</td>\n",
       "      <td>71284.00</td>\n",
       "      <td>23850.24</td>\n",
       "      <td>21393</td>\n",
       "      <td>31960</td>\n",
       "      <td>33028</td>\n",
       "      <td>41836.5</td>\n",
       "      <td>59330.2</td>\n",
       "      <td>40380.0</td>\n",
       "      <td>41492.81</td>\n",
       "      <td>5</td>\n",
       "    </tr>\n",
       "    <tr>\n",
       "      <th>7</th>\n",
       "      <td>7</td>\n",
       "      <td>ภาคกลาง</td>\n",
       "      <td>สมุทรปราการ</td>\n",
       "      <td>เพื่อใช้ทำธุรกิจที่ไม่ใช่การเกษตร</td>\n",
       "      <td>11070.68</td>\n",
       "      <td>9221.45</td>\n",
       "      <td>5249</td>\n",
       "      <td>3570</td>\n",
       "      <td>6909</td>\n",
       "      <td>2895.4</td>\n",
       "      <td>14035.8</td>\n",
       "      <td>1981.9</td>\n",
       "      <td>3025.70</td>\n",
       "      <td>1</td>\n",
       "    </tr>\n",
       "    <tr>\n",
       "      <th>8</th>\n",
       "      <td>8</td>\n",
       "      <td>ภาคกลาง</td>\n",
       "      <td>สมุทรปราการ</td>\n",
       "      <td>เพื่อใช้ทำการเกษตร</td>\n",
       "      <td>1969.19</td>\n",
       "      <td>4083.22</td>\n",
       "      <td>1353</td>\n",
       "      <td>1054</td>\n",
       "      <td>1312</td>\n",
       "      <td>420.0</td>\n",
       "      <td>92.5</td>\n",
       "      <td>0.0</td>\n",
       "      <td>212.26</td>\n",
       "      <td>1</td>\n",
       "    </tr>\n",
       "    <tr>\n",
       "      <th>9</th>\n",
       "      <td>9</td>\n",
       "      <td>ภาคกลาง</td>\n",
       "      <td>สมุทรปราการ</td>\n",
       "      <td>เพื่อใช้ในการศึกษา</td>\n",
       "      <td>0.00</td>\n",
       "      <td>0.00</td>\n",
       "      <td>1292</td>\n",
       "      <td>2729</td>\n",
       "      <td>1201</td>\n",
       "      <td>461.7</td>\n",
       "      <td>124.4</td>\n",
       "      <td>160.1</td>\n",
       "      <td>568.94</td>\n",
       "      <td>1</td>\n",
       "    </tr>\n",
       "  </tbody>\n",
       "</table>\n",
       "</div>"
      ],
      "text/plain": [
       "   Unnamed: 0     zone       province                                type  \\\n",
       "0           0  ภาคกลาง  กรุงเทพมหานคร             เพื่อใช้จ่ายในครัวเรือน   \n",
       "1           1  ภาคกลาง  กรุงเทพมหานคร   เพื่อใช้ทำธุรกิจที่ไม่ใช่การเกษตร   \n",
       "2           2  ภาคกลาง  กรุงเทพมหานคร                  เพื่อใช้ทำการเกษตร   \n",
       "3           3  ภาคกลาง  กรุงเทพมหานคร                  เพื่อใช้ในการศึกษา   \n",
       "4           4  ภาคกลาง  กรุงเทพมหานคร  เพื่อใช้ซื้อ/เช่าซื้อบ้านและที่ดิน   \n",
       "5           5  ภาคกลาง  กรุงเทพมหานคร                              อื่น ๆ   \n",
       "6           6  ภาคกลาง    สมุทรปราการ             เพื่อใช้จ่ายในครัวเรือน   \n",
       "7           7  ภาคกลาง    สมุทรปราการ   เพื่อใช้ทำธุรกิจที่ไม่ใช่การเกษตร   \n",
       "8           8  ภาคกลาง    สมุทรปราการ                  เพื่อใช้ทำการเกษตร   \n",
       "9           9  ภาคกลาง    สมุทรปราการ                  เพื่อใช้ในการศึกษา   \n",
       "\n",
       "        2545      2547   2549   2550    2552      2554      2556     2558  \\\n",
       "0  117724.88  37388.46  31693  38184   44146   57018.3   72056.7  52384.4   \n",
       "1   44118.82  31081.73  48960  27517   51720   15421.8   16311.5  12717.4   \n",
       "2      85.69    445.82   1189   3298     600    1273.0     709.8    310.9   \n",
       "3       0.00      0.00   4362   4953    5249    4287.7    3099.1   1229.9   \n",
       "4       0.00  86207.61  68779  67457  102121  136961.9  180382.5  97246.0   \n",
       "5     269.82   5652.28   3076  13986    3830    3778.9    3017.1    817.0   \n",
       "6   71284.00  23850.24  21393  31960   33028   41836.5   59330.2  40380.0   \n",
       "7   11070.68   9221.45   5249   3570    6909    2895.4   14035.8   1981.9   \n",
       "8    1969.19   4083.22   1353   1054    1312     420.0      92.5      0.0   \n",
       "9       0.00      0.00   1292   2729    1201     461.7     124.4    160.1   \n",
       "\n",
       "        2560  group  \n",
       "0   65061.29      0  \n",
       "1   10537.76      2  \n",
       "2      10.80      1  \n",
       "3    2261.56      1  \n",
       "4  123080.32      3  \n",
       "5    1748.11      1  \n",
       "6   41492.81      5  \n",
       "7    3025.70      1  \n",
       "8     212.26      1  \n",
       "9     568.94      1  "
      ]
     },
     "execution_count": 3,
     "metadata": {},
     "output_type": "execute_result"
    }
   ],
   "source": [
    "df.head(10)"
   ]
  },
  {
   "cell_type": "code",
   "execution_count": 4,
   "metadata": {},
   "outputs": [
    {
     "data": {
      "text/html": [
       "<div>\n",
       "<style scoped>\n",
       "    .dataframe tbody tr th:only-of-type {\n",
       "        vertical-align: middle;\n",
       "    }\n",
       "\n",
       "    .dataframe tbody tr th {\n",
       "        vertical-align: top;\n",
       "    }\n",
       "\n",
       "    .dataframe thead th {\n",
       "        text-align: right;\n",
       "    }\n",
       "</style>\n",
       "<table border=\"1\" class=\"dataframe\">\n",
       "  <thead>\n",
       "    <tr style=\"text-align: right;\">\n",
       "      <th></th>\n",
       "      <th>Unnamed: 0</th>\n",
       "      <th>zone</th>\n",
       "      <th>province</th>\n",
       "      <th>type</th>\n",
       "      <th>2545</th>\n",
       "      <th>2547</th>\n",
       "      <th>2549</th>\n",
       "      <th>2550</th>\n",
       "      <th>2552</th>\n",
       "      <th>2554</th>\n",
       "      <th>2556</th>\n",
       "      <th>2558</th>\n",
       "      <th>2560</th>\n",
       "      <th>group</th>\n",
       "    </tr>\n",
       "  </thead>\n",
       "  <tbody>\n",
       "    <tr>\n",
       "      <th>31</th>\n",
       "      <td>31</td>\n",
       "      <td>ภาคกลาง</td>\n",
       "      <td>อ่างทอง</td>\n",
       "      <td>เพื่อใช้ทำธุรกิจที่ไม่ใช่การเกษตร</td>\n",
       "      <td>4268.41</td>\n",
       "      <td>4580.54</td>\n",
       "      <td>16330</td>\n",
       "      <td>25416</td>\n",
       "      <td>179680</td>\n",
       "      <td>13690.0</td>\n",
       "      <td>28921.8</td>\n",
       "      <td>22275.8</td>\n",
       "      <td>5920.44</td>\n",
       "      <td>4</td>\n",
       "    </tr>\n",
       "    <tr>\n",
       "      <th>38</th>\n",
       "      <td>38</td>\n",
       "      <td>ภาคกลาง</td>\n",
       "      <td>ลพบุรี</td>\n",
       "      <td>เพื่อใช้ทำการเกษตร</td>\n",
       "      <td>15975.88</td>\n",
       "      <td>28240.46</td>\n",
       "      <td>30578</td>\n",
       "      <td>22795</td>\n",
       "      <td>320118</td>\n",
       "      <td>33620.3</td>\n",
       "      <td>40284.5</td>\n",
       "      <td>27121.5</td>\n",
       "      <td>18083.09</td>\n",
       "      <td>4</td>\n",
       "    </tr>\n",
       "  </tbody>\n",
       "</table>\n",
       "</div>"
      ],
      "text/plain": [
       "    Unnamed: 0     zone province                               type      2545  \\\n",
       "31          31  ภาคกลาง  อ่างทอง  เพื่อใช้ทำธุรกิจที่ไม่ใช่การเกษตร   4268.41   \n",
       "38          38  ภาคกลาง   ลพบุรี                 เพื่อใช้ทำการเกษตร  15975.88   \n",
       "\n",
       "        2547   2549   2550    2552     2554     2556     2558      2560  group  \n",
       "31   4580.54  16330  25416  179680  13690.0  28921.8  22275.8   5920.44      4  \n",
       "38  28240.46  30578  22795  320118  33620.3  40284.5  27121.5  18083.09      4  "
      ]
     },
     "execution_count": 4,
     "metadata": {},
     "output_type": "execute_result"
    }
   ],
   "source": [
    "df[df.group==4]"
   ]
  },
  {
   "cell_type": "code",
   "execution_count": null,
   "metadata": {},
   "outputs": [],
   "source": []
  },
  {
   "cell_type": "markdown",
   "metadata": {},
   "source": [
    "1 : เพื่อใช้จ่ายในครัวเรือน <br/>\n",
    "2 : เพื่อใช้ทำธุรกิจที่ไม่ใช่การเกษตร <br/>\n",
    "3: เพื่อใช้ทำการเกษตร <br/>\n",
    "4: เพื่อใช้ในการศึกษา <br/>\n",
    "5: เพื่อใช้ซื้อ/เช่าซื้อบ้านและที่ดิน <br/>\n",
    "6: อื่น ๆ"
   ]
  },
  {
   "cell_type": "markdown",
   "metadata": {},
   "source": [
    "# Group 0"
   ]
  },
  {
   "cell_type": "code",
   "execution_count": 5,
   "metadata": {},
   "outputs": [
    {
     "name": "stdout",
     "output_type": "stream",
     "text": [
      "51\n",
      "2\n",
      "6\n",
      "0\n",
      "12\n",
      "0\n"
     ]
    }
   ],
   "source": [
    "g0 = df[df.group==0]\n",
    "lst0 = []\n",
    "for i in g0['type']:\n",
    "    lst0.append(i)\n",
    "    \n",
    "g0_1 = lst0.count(\"เพื่อใช้จ่ายในครัวเรือน\")\n",
    "g0_2 = lst0.count(\"เพื่อใช้ทำธุรกิจที่ไม่ใช่การเกษตร\")\n",
    "g0_3 = lst0.count(\"เพื่อใช้ทำการเกษตร\")\n",
    "g0_4 = lst0.count(\"เพื่อใช้ในการศึกษา\")\n",
    "g0_5 = lst0.count(\"เพื่อใช้ซื้อ/เช่าซื้อบ้านและที่ดิน\")\n",
    "g0_6 = lst0.count(\"อื่น ๆ\")\n",
    "\n",
    "print(g0_1)\n",
    "print(g0_2)\n",
    "print(g0_3)\n",
    "print(g0_4)\n",
    "print(g0_5)\n",
    "print(g0_6)"
   ]
  },
  {
   "cell_type": "markdown",
   "metadata": {},
   "source": [
    "# Group1"
   ]
  },
  {
   "cell_type": "code",
   "execution_count": 6,
   "metadata": {},
   "outputs": [
    {
     "name": "stdout",
     "output_type": "stream",
     "text": [
      "0\n",
      "11\n",
      "14\n",
      "77\n",
      "1\n",
      "76\n"
     ]
    }
   ],
   "source": [
    "g1 = df[df.group==1]\n",
    "lst1 = []\n",
    "for i in g1['type']:\n",
    "    lst1.append(i)\n",
    "\n",
    "g1_1 = lst1.count(\"เพื่อใช้จ่ายในครัวเรือน\")\n",
    "g1_2 = lst1.count(\"เพื่อใช้ทำธุรกิจที่ไม่ใช่การเกษตร\")\n",
    "g1_3 = lst1.count(\"เพื่อใช้ทำการเกษตร\")\n",
    "g1_4 = lst1.count(\"เพื่อใช้ในการศึกษา\")\n",
    "g1_5 = lst1.count(\"เพื่อใช้ซื้อ/เช่าซื้อบ้านและที่ดิน\")\n",
    "g1_6 = lst1.count(\"อื่น ๆ\")\n",
    "\n",
    "print(g1_1)\n",
    "print(g1_2)\n",
    "print(g1_3)\n",
    "print(g1_4)\n",
    "print(g1_5)\n",
    "print(g1_6)"
   ]
  },
  {
   "cell_type": "markdown",
   "metadata": {},
   "source": [
    "# Group2"
   ]
  },
  {
   "cell_type": "code",
   "execution_count": 7,
   "metadata": {},
   "outputs": [
    {
     "name": "stdout",
     "output_type": "stream",
     "text": [
      "4\n",
      "57\n",
      "32\n",
      "0\n",
      "21\n",
      "1\n"
     ]
    }
   ],
   "source": [
    "g2 = df[df.group==2]\n",
    "lst2 = []\n",
    "for i in g2['type']:\n",
    "    lst2.append(i)\n",
    "\n",
    "g2_1 = lst2.count(\"เพื่อใช้จ่ายในครัวเรือน\")\n",
    "g2_2 = lst2.count(\"เพื่อใช้ทำธุรกิจที่ไม่ใช่การเกษตร\")\n",
    "g2_3 = lst2.count(\"เพื่อใช้ทำการเกษตร\")\n",
    "g2_4 = lst2.count(\"เพื่อใช้ในการศึกษา\")\n",
    "g2_5 = lst2.count(\"เพื่อใช้ซื้อ/เช่าซื้อบ้านและที่ดิน\")\n",
    "g2_6 = lst2.count(\"อื่น ๆ\")\n",
    "\n",
    "print(g2_1)\n",
    "print(g2_2)\n",
    "print(g2_3)\n",
    "print(g2_4)\n",
    "print(g2_5)\n",
    "print(g2_6)"
   ]
  },
  {
   "cell_type": "markdown",
   "metadata": {},
   "source": [
    "# Group3"
   ]
  },
  {
   "cell_type": "code",
   "execution_count": 8,
   "metadata": {},
   "outputs": [
    {
     "name": "stdout",
     "output_type": "stream",
     "text": [
      "1\n",
      "0\n",
      "0\n",
      "0\n",
      "4\n",
      "0\n"
     ]
    }
   ],
   "source": [
    "g3 = df[df.group==3]\n",
    "lst3 = []\n",
    "for i in g3['type']:\n",
    "    lst3.append(i)\n",
    "\n",
    "g3_1 = lst3.count(\"เพื่อใช้จ่ายในครัวเรือน\")\n",
    "g3_2 = lst3.count(\"เพื่อใช้ทำธุรกิจที่ไม่ใช่การเกษตร\")\n",
    "g3_3 = lst3.count(\"เพื่อใช้ทำการเกษตร\")\n",
    "g3_4 = lst3.count(\"เพื่อใช้ในการศึกษา\")\n",
    "g3_5 = lst3.count(\"เพื่อใช้ซื้อ/เช่าซื้อบ้านและที่ดิน\")\n",
    "g3_6 = lst3.count(\"อื่น ๆ\")\n",
    "\n",
    "print(g3_1)\n",
    "print(g3_2)\n",
    "print(g3_3)\n",
    "print(g3_4)\n",
    "print(g3_5)\n",
    "print(g3_6)"
   ]
  },
  {
   "cell_type": "markdown",
   "metadata": {},
   "source": [
    "# Group4"
   ]
  },
  {
   "cell_type": "code",
   "execution_count": 9,
   "metadata": {},
   "outputs": [
    {
     "name": "stdout",
     "output_type": "stream",
     "text": [
      "0\n",
      "1\n",
      "1\n",
      "0\n",
      "0\n",
      "0\n"
     ]
    }
   ],
   "source": [
    "g4 = df[df.group==4]\n",
    "lst4 = []\n",
    "for i in g4['type']:\n",
    "    lst4.append(i)\n",
    "\n",
    "g4_1 = lst4.count(\"เพื่อใช้จ่ายในครัวเรือน\")\n",
    "g4_2 = lst4.count(\"เพื่อใช้ทำธุรกิจที่ไม่ใช่การเกษตร\")\n",
    "g4_3 = lst4.count(\"เพื่อใช้ทำการเกษตร\")\n",
    "g4_4 = lst4.count(\"เพื่อใช้ในการศึกษา\")\n",
    "g4_5 = lst4.count(\"เพื่อใช้ซื้อ/เช่าซื้อบ้านและที่ดิน\")\n",
    "g4_6 = lst4.count(\"อื่น ๆ\")\n",
    "\n",
    "print(g4_1)\n",
    "print(g4_2)\n",
    "print(g4_3)\n",
    "print(g4_4)\n",
    "print(g4_5)\n",
    "print(g4_6)"
   ]
  },
  {
   "cell_type": "markdown",
   "metadata": {},
   "source": [
    "# Group5"
   ]
  },
  {
   "cell_type": "code",
   "execution_count": 10,
   "metadata": {},
   "outputs": [
    {
     "name": "stdout",
     "output_type": "stream",
     "text": [
      "21\n",
      "6\n",
      "24\n",
      "0\n",
      "39\n",
      "0\n"
     ]
    }
   ],
   "source": [
    "g5 = df[df.group==5]\n",
    "lst5 = []\n",
    "for i in g5['type']:\n",
    "    lst5.append(i)\n",
    "\n",
    "g5_1 = lst5.count(\"เพื่อใช้จ่ายในครัวเรือน\")\n",
    "g5_2 = lst5.count(\"เพื่อใช้ทำธุรกิจที่ไม่ใช่การเกษตร\")\n",
    "g5_3 = lst5.count(\"เพื่อใช้ทำการเกษตร\")\n",
    "g5_4 = lst5.count(\"เพื่อใช้ในการศึกษา\")\n",
    "g5_5 = lst5.count(\"เพื่อใช้ซื้อ/เช่าซื้อบ้านและที่ดิน\")\n",
    "g5_6 = lst5.count(\"อื่น ๆ\")\n",
    "\n",
    "print(g5_1)\n",
    "print(g5_2)\n",
    "print(g5_3)\n",
    "print(g5_4)\n",
    "print(g5_5)\n",
    "print(g5_6)"
   ]
  },
  {
   "cell_type": "code",
   "execution_count": 11,
   "metadata": {},
   "outputs": [],
   "source": [
    "d =  {\n",
    "    \"เพื่อใช้จ่ายในครัวเรือน\" : [g0_1, g1_1, g2_1, g3_1, g4_1, g5_1],\n",
    "    \"เพื่อใช้ทำธุรกิจที่ไม่ใช่การเกษตร\" : [g0_2, g1_2, g2_2, g3_2, g4_2, g5_2],\n",
    "    \"เพื่อใช้ทำการเกษตร\" : [g0_3, g1_3, g2_3, g3_3, g4_3, g5_3],\n",
    "    \"เพื่อใช้ในการศึกษา\" : [g0_4, g1_4, g2_4, g3_4, g4_4, g5_4],\n",
    "    \"เพื่อใช้ซื้อ/เช่าซื้อบ้านและที่ดิน\" : [g0_5, g1_5, g2_5, g3_5, g4_5, g5_5],\n",
    "     \"อื่น ๆ\" : [g0_6, g1_6, g2_6, g3_6, g4_6, g5_6]\n",
    "}"
   ]
  },
  {
   "cell_type": "code",
   "execution_count": 12,
   "metadata": {},
   "outputs": [
    {
     "data": {
      "text/html": [
       "<div>\n",
       "<style scoped>\n",
       "    .dataframe tbody tr th:only-of-type {\n",
       "        vertical-align: middle;\n",
       "    }\n",
       "\n",
       "    .dataframe tbody tr th {\n",
       "        vertical-align: top;\n",
       "    }\n",
       "\n",
       "    .dataframe thead th {\n",
       "        text-align: right;\n",
       "    }\n",
       "</style>\n",
       "<table border=\"1\" class=\"dataframe\">\n",
       "  <thead>\n",
       "    <tr style=\"text-align: right;\">\n",
       "      <th></th>\n",
       "      <th>0</th>\n",
       "      <th>1</th>\n",
       "      <th>2</th>\n",
       "      <th>3</th>\n",
       "      <th>4</th>\n",
       "      <th>5</th>\n",
       "    </tr>\n",
       "  </thead>\n",
       "  <tbody>\n",
       "    <tr>\n",
       "      <th>เพื่อใช้จ่ายในครัวเรือน</th>\n",
       "      <td>51</td>\n",
       "      <td>0</td>\n",
       "      <td>4</td>\n",
       "      <td>1</td>\n",
       "      <td>0</td>\n",
       "      <td>21</td>\n",
       "    </tr>\n",
       "    <tr>\n",
       "      <th>เพื่อใช้ทำธุรกิจที่ไม่ใช่การเกษตร</th>\n",
       "      <td>2</td>\n",
       "      <td>11</td>\n",
       "      <td>57</td>\n",
       "      <td>0</td>\n",
       "      <td>1</td>\n",
       "      <td>6</td>\n",
       "    </tr>\n",
       "    <tr>\n",
       "      <th>เพื่อใช้ทำการเกษตร</th>\n",
       "      <td>6</td>\n",
       "      <td>14</td>\n",
       "      <td>32</td>\n",
       "      <td>0</td>\n",
       "      <td>1</td>\n",
       "      <td>24</td>\n",
       "    </tr>\n",
       "    <tr>\n",
       "      <th>เพื่อใช้ในการศึกษา</th>\n",
       "      <td>0</td>\n",
       "      <td>77</td>\n",
       "      <td>0</td>\n",
       "      <td>0</td>\n",
       "      <td>0</td>\n",
       "      <td>0</td>\n",
       "    </tr>\n",
       "    <tr>\n",
       "      <th>เพื่อใช้ซื้อ/เช่าซื้อบ้านและที่ดิน</th>\n",
       "      <td>12</td>\n",
       "      <td>1</td>\n",
       "      <td>21</td>\n",
       "      <td>4</td>\n",
       "      <td>0</td>\n",
       "      <td>39</td>\n",
       "    </tr>\n",
       "    <tr>\n",
       "      <th>อื่น ๆ</th>\n",
       "      <td>0</td>\n",
       "      <td>76</td>\n",
       "      <td>1</td>\n",
       "      <td>0</td>\n",
       "      <td>0</td>\n",
       "      <td>0</td>\n",
       "    </tr>\n",
       "  </tbody>\n",
       "</table>\n",
       "</div>"
      ],
      "text/plain": [
       "                                     0   1   2  3  4   5\n",
       "เพื่อใช้จ่ายในครัวเรือน             51   0   4  1  0  21\n",
       "เพื่อใช้ทำธุรกิจที่ไม่ใช่การเกษตร    2  11  57  0  1   6\n",
       "เพื่อใช้ทำการเกษตร                   6  14  32  0  1  24\n",
       "เพื่อใช้ในการศึกษา                   0  77   0  0  0   0\n",
       "เพื่อใช้ซื้อ/เช่าซื้อบ้านและที่ดิน  12   1  21  4  0  39\n",
       "อื่น ๆ                               0  76   1  0  0   0"
      ]
     },
     "execution_count": 12,
     "metadata": {},
     "output_type": "execute_result"
    }
   ],
   "source": [
    "df = pd.DataFrame(data=d)\n",
    "df.T"
   ]
  },
  {
   "cell_type": "code",
   "execution_count": 13,
   "metadata": {},
   "outputs": [
    {
     "data": {
      "text/html": [
       "<script type=\"text/javascript\">window.PlotlyConfig = {MathJaxConfig: 'local'};</script><script type=\"text/javascript\">if (window.MathJax) {MathJax.Hub.Config({SVG: {font: \"STIX-Web\"}});}</script><script>requirejs.config({paths: { 'plotly': ['https://cdn.plot.ly/plotly-latest.min']},});if(!window._Plotly) {require(['plotly'],function(plotly) {window._Plotly=plotly;});}</script>"
      ],
      "text/vnd.plotly.v1+html": [
       "<script type=\"text/javascript\">window.PlotlyConfig = {MathJaxConfig: 'local'};</script><script type=\"text/javascript\">if (window.MathJax) {MathJax.Hub.Config({SVG: {font: \"STIX-Web\"}});}</script><script>requirejs.config({paths: { 'plotly': ['https://cdn.plot.ly/plotly-latest.min']},});if(!window._Plotly) {require(['plotly'],function(plotly) {window._Plotly=plotly;});}</script>"
      ]
     },
     "metadata": {},
     "output_type": "display_data"
    }
   ],
   "source": [
    "import plotly as py\n",
    "import plotly.graph_objs as go\n",
    "from plotly.graph_objs import Scatter, Layout\n",
    "from plotly.offline import download_plotlyjs, init_notebook_mode, plot, iplot\n",
    "py.offline.init_notebook_mode(connected=True)"
   ]
  },
  {
   "cell_type": "code",
   "execution_count": 25,
   "metadata": {},
   "outputs": [
    {
     "data": {
      "application/vnd.plotly.v1+json": {
       "config": {
        "linkText": "Export to plot.ly",
        "plotlyServerURL": "https://plot.ly",
        "showLink": false
       },
       "data": [
        {
         "name": "เพื่อใช้จ่ายในครัวเรือน",
         "type": "bar",
         "uid": "94736134-b342-4744-b689-6c8525a45248",
         "x": [
          "group 0",
          "group 1",
          "group 2",
          "group 3",
          "group 4",
          "group 5"
         ],
         "y": [
          51,
          0,
          4,
          1,
          0,
          21
         ]
        },
        {
         "name": "เพื่อใช้ทำธุรกิจที่ไม่ใช่การเกษตร\t",
         "type": "bar",
         "uid": "12e3e040-4fb9-464b-9f4f-24092b0a9568",
         "x": [
          "group 0",
          "group 1",
          "group 2",
          "group 3",
          "group 4",
          "group 5"
         ],
         "y": [
          2,
          11,
          57,
          0,
          1,
          6
         ]
        },
        {
         "name": "เพื่อใช้ทำการเกษตร",
         "type": "bar",
         "uid": "69a24d0b-7e8c-49fe-985c-a5f1e8da48c3",
         "x": [
          "group 0",
          "group 1",
          "group 2",
          "group 3",
          "group 4",
          "group 5"
         ],
         "y": [
          6,
          14,
          32,
          0,
          1,
          24
         ]
        },
        {
         "name": "เพื่อใช้ในการศึกษา",
         "type": "bar",
         "uid": "7617ceff-abb0-412d-be5c-4b9e4969bc81",
         "x": [
          "group 0",
          "group 1",
          "group 2",
          "group 3",
          "group 4",
          "group 5"
         ],
         "y": [
          0,
          77,
          0,
          0,
          0,
          0
         ]
        },
        {
         "name": "เพื่อใช้ซื้อ/เช่าซื้อบ้านและที่ดิน",
         "type": "bar",
         "uid": "532b6876-5cab-4e09-98f5-319639c93a42",
         "x": [
          "group 0",
          "group 1",
          "group 2",
          "group 3",
          "group 4",
          "group 5"
         ],
         "y": [
          12,
          1,
          21,
          4,
          0,
          39
         ]
        },
        {
         "name": "อื่น ๆ",
         "type": "bar",
         "uid": "2d38e19a-179c-4ab8-ad12-9369284ae844",
         "x": [
          "group 0",
          "group 1",
          "group 2",
          "group 3",
          "group 4",
          "group 5"
         ],
         "y": [
          0,
          76,
          1,
          0,
          0,
          0
         ]
        }
       ],
       "layout": {
        "barmode": "stack"
       }
      },
      "text/html": [
       "<div id=\"be9ac0ab-b944-4999-bd08-1b8ad4b08a0e\" style=\"height: 525px; width: 100%;\" class=\"plotly-graph-div\"></div><script type=\"text/javascript\">require([\"plotly\"], function(Plotly) { window.PLOTLYENV=window.PLOTLYENV || {};window.PLOTLYENV.BASE_URL=\"https://plot.ly\";\n",
       "if (document.getElementById(\"be9ac0ab-b944-4999-bd08-1b8ad4b08a0e\")) {\n",
       "    Plotly.newPlot(\"be9ac0ab-b944-4999-bd08-1b8ad4b08a0e\", [{\"name\": \"\\u0e40\\u0e1e\\u0e37\\u0e48\\u0e2d\\u0e43\\u0e0a\\u0e49\\u0e08\\u0e48\\u0e32\\u0e22\\u0e43\\u0e19\\u0e04\\u0e23\\u0e31\\u0e27\\u0e40\\u0e23\\u0e37\\u0e2d\\u0e19\", \"x\": [\"group 0\", \"group 1\", \"group 2\", \"group 3\", \"group 4\", \"group 5\"], \"y\": [51, 0, 4, 1, 0, 21], \"type\": \"bar\", \"uid\": \"94736134-b342-4744-b689-6c8525a45248\"}, {\"name\": \"\\u0e40\\u0e1e\\u0e37\\u0e48\\u0e2d\\u0e43\\u0e0a\\u0e49\\u0e17\\u0e33\\u0e18\\u0e38\\u0e23\\u0e01\\u0e34\\u0e08\\u0e17\\u0e35\\u0e48\\u0e44\\u0e21\\u0e48\\u0e43\\u0e0a\\u0e48\\u0e01\\u0e32\\u0e23\\u0e40\\u0e01\\u0e29\\u0e15\\u0e23\\t\", \"x\": [\"group 0\", \"group 1\", \"group 2\", \"group 3\", \"group 4\", \"group 5\"], \"y\": [2, 11, 57, 0, 1, 6], \"type\": \"bar\", \"uid\": \"12e3e040-4fb9-464b-9f4f-24092b0a9568\"}, {\"name\": \"\\u0e40\\u0e1e\\u0e37\\u0e48\\u0e2d\\u0e43\\u0e0a\\u0e49\\u0e17\\u0e33\\u0e01\\u0e32\\u0e23\\u0e40\\u0e01\\u0e29\\u0e15\\u0e23\", \"x\": [\"group 0\", \"group 1\", \"group 2\", \"group 3\", \"group 4\", \"group 5\"], \"y\": [6, 14, 32, 0, 1, 24], \"type\": \"bar\", \"uid\": \"69a24d0b-7e8c-49fe-985c-a5f1e8da48c3\"}, {\"name\": \"\\u0e40\\u0e1e\\u0e37\\u0e48\\u0e2d\\u0e43\\u0e0a\\u0e49\\u0e43\\u0e19\\u0e01\\u0e32\\u0e23\\u0e28\\u0e36\\u0e01\\u0e29\\u0e32\", \"x\": [\"group 0\", \"group 1\", \"group 2\", \"group 3\", \"group 4\", \"group 5\"], \"y\": [0, 77, 0, 0, 0, 0], \"type\": \"bar\", \"uid\": \"7617ceff-abb0-412d-be5c-4b9e4969bc81\"}, {\"name\": \"\\u0e40\\u0e1e\\u0e37\\u0e48\\u0e2d\\u0e43\\u0e0a\\u0e49\\u0e0b\\u0e37\\u0e49\\u0e2d/\\u0e40\\u0e0a\\u0e48\\u0e32\\u0e0b\\u0e37\\u0e49\\u0e2d\\u0e1a\\u0e49\\u0e32\\u0e19\\u0e41\\u0e25\\u0e30\\u0e17\\u0e35\\u0e48\\u0e14\\u0e34\\u0e19\", \"x\": [\"group 0\", \"group 1\", \"group 2\", \"group 3\", \"group 4\", \"group 5\"], \"y\": [12, 1, 21, 4, 0, 39], \"type\": \"bar\", \"uid\": \"532b6876-5cab-4e09-98f5-319639c93a42\"}, {\"name\": \"\\u0e2d\\u0e37\\u0e48\\u0e19 \\u0e46\", \"x\": [\"group 0\", \"group 1\", \"group 2\", \"group 3\", \"group 4\", \"group 5\"], \"y\": [0, 76, 1, 0, 0, 0], \"type\": \"bar\", \"uid\": \"2d38e19a-179c-4ab8-ad12-9369284ae844\"}], {\"barmode\": \"stack\"}, {\"showLink\": false, \"linkText\": \"Export to plot.ly\", \"plotlyServerURL\": \"https://plot.ly\"}); \n",
       "}\n",
       "});</script><script type=\"text/javascript\">window.addEventListener(\"resize\", function(){if (document.getElementById(\"be9ac0ab-b944-4999-bd08-1b8ad4b08a0e\")) {window._Plotly.Plots.resize(document.getElementById(\"be9ac0ab-b944-4999-bd08-1b8ad4b08a0e\"));};})</script>"
      ],
      "text/vnd.plotly.v1+html": [
       "<div id=\"be9ac0ab-b944-4999-bd08-1b8ad4b08a0e\" style=\"height: 525px; width: 100%;\" class=\"plotly-graph-div\"></div><script type=\"text/javascript\">require([\"plotly\"], function(Plotly) { window.PLOTLYENV=window.PLOTLYENV || {};window.PLOTLYENV.BASE_URL=\"https://plot.ly\";\n",
       "if (document.getElementById(\"be9ac0ab-b944-4999-bd08-1b8ad4b08a0e\")) {\n",
       "    Plotly.newPlot(\"be9ac0ab-b944-4999-bd08-1b8ad4b08a0e\", [{\"name\": \"\\u0e40\\u0e1e\\u0e37\\u0e48\\u0e2d\\u0e43\\u0e0a\\u0e49\\u0e08\\u0e48\\u0e32\\u0e22\\u0e43\\u0e19\\u0e04\\u0e23\\u0e31\\u0e27\\u0e40\\u0e23\\u0e37\\u0e2d\\u0e19\", \"x\": [\"group 0\", \"group 1\", \"group 2\", \"group 3\", \"group 4\", \"group 5\"], \"y\": [51, 0, 4, 1, 0, 21], \"type\": \"bar\", \"uid\": \"94736134-b342-4744-b689-6c8525a45248\"}, {\"name\": \"\\u0e40\\u0e1e\\u0e37\\u0e48\\u0e2d\\u0e43\\u0e0a\\u0e49\\u0e17\\u0e33\\u0e18\\u0e38\\u0e23\\u0e01\\u0e34\\u0e08\\u0e17\\u0e35\\u0e48\\u0e44\\u0e21\\u0e48\\u0e43\\u0e0a\\u0e48\\u0e01\\u0e32\\u0e23\\u0e40\\u0e01\\u0e29\\u0e15\\u0e23\\t\", \"x\": [\"group 0\", \"group 1\", \"group 2\", \"group 3\", \"group 4\", \"group 5\"], \"y\": [2, 11, 57, 0, 1, 6], \"type\": \"bar\", \"uid\": \"12e3e040-4fb9-464b-9f4f-24092b0a9568\"}, {\"name\": \"\\u0e40\\u0e1e\\u0e37\\u0e48\\u0e2d\\u0e43\\u0e0a\\u0e49\\u0e17\\u0e33\\u0e01\\u0e32\\u0e23\\u0e40\\u0e01\\u0e29\\u0e15\\u0e23\", \"x\": [\"group 0\", \"group 1\", \"group 2\", \"group 3\", \"group 4\", \"group 5\"], \"y\": [6, 14, 32, 0, 1, 24], \"type\": \"bar\", \"uid\": \"69a24d0b-7e8c-49fe-985c-a5f1e8da48c3\"}, {\"name\": \"\\u0e40\\u0e1e\\u0e37\\u0e48\\u0e2d\\u0e43\\u0e0a\\u0e49\\u0e43\\u0e19\\u0e01\\u0e32\\u0e23\\u0e28\\u0e36\\u0e01\\u0e29\\u0e32\", \"x\": [\"group 0\", \"group 1\", \"group 2\", \"group 3\", \"group 4\", \"group 5\"], \"y\": [0, 77, 0, 0, 0, 0], \"type\": \"bar\", \"uid\": \"7617ceff-abb0-412d-be5c-4b9e4969bc81\"}, {\"name\": \"\\u0e40\\u0e1e\\u0e37\\u0e48\\u0e2d\\u0e43\\u0e0a\\u0e49\\u0e0b\\u0e37\\u0e49\\u0e2d/\\u0e40\\u0e0a\\u0e48\\u0e32\\u0e0b\\u0e37\\u0e49\\u0e2d\\u0e1a\\u0e49\\u0e32\\u0e19\\u0e41\\u0e25\\u0e30\\u0e17\\u0e35\\u0e48\\u0e14\\u0e34\\u0e19\", \"x\": [\"group 0\", \"group 1\", \"group 2\", \"group 3\", \"group 4\", \"group 5\"], \"y\": [12, 1, 21, 4, 0, 39], \"type\": \"bar\", \"uid\": \"532b6876-5cab-4e09-98f5-319639c93a42\"}, {\"name\": \"\\u0e2d\\u0e37\\u0e48\\u0e19 \\u0e46\", \"x\": [\"group 0\", \"group 1\", \"group 2\", \"group 3\", \"group 4\", \"group 5\"], \"y\": [0, 76, 1, 0, 0, 0], \"type\": \"bar\", \"uid\": \"2d38e19a-179c-4ab8-ad12-9369284ae844\"}], {\"barmode\": \"stack\"}, {\"showLink\": false, \"linkText\": \"Export to plot.ly\", \"plotlyServerURL\": \"https://plot.ly\"}); \n",
       "}\n",
       "});</script><script type=\"text/javascript\">window.addEventListener(\"resize\", function(){if (document.getElementById(\"be9ac0ab-b944-4999-bd08-1b8ad4b08a0e\")) {window._Plotly.Plots.resize(document.getElementById(\"be9ac0ab-b944-4999-bd08-1b8ad4b08a0e\"));};})</script>"
      ]
     },
     "metadata": {},
     "output_type": "display_data"
    }
   ],
   "source": [
    "trace1 = go.Bar(\n",
    "    x=[\"group 0\", \"group 1\", \"group 2\", \"group 3\", \"group 4\", \"group 5\"],\n",
    "    y=[51,0,4,1,0,21],\n",
    "    name='เพื่อใช้จ่ายในครัวเรือน'\n",
    ")\n",
    "trace2 = go.Bar(\n",
    "    x=[\"group 0\", \"group 1\", \"group 2\", \"group 3\", \"group 4\", \"group 5\"],\n",
    "    y=[2,11,57,0,1,6],\n",
    "    name='เพื่อใช้ทำธุรกิจที่ไม่ใช่การเกษตร\t'\n",
    ")\n",
    "trace3 = go.Bar(\n",
    "    x=[\"group 0\", \"group 1\", \"group 2\", \"group 3\", \"group 4\", \"group 5\"],\n",
    "    y=[6,14,32,0,1,24],\n",
    "    name='เพื่อใช้ทำการเกษตร'\n",
    ")\n",
    "trace4 = go.Bar(\n",
    "    x=[\"group 0\", \"group 1\", \"group 2\", \"group 3\", \"group 4\", \"group 5\"],\n",
    "    y=[0,77,0,0,0,0],\n",
    "    name='เพื่อใช้ในการศึกษา'\n",
    ")\n",
    "trace5 = go.Bar(\n",
    "    x=[\"group 0\", \"group 1\", \"group 2\", \"group 3\", \"group 4\", \"group 5\"],\n",
    "    y=[12,1,21,4,0,39],\n",
    "    name='เพื่อใช้ซื้อ/เช่าซื้อบ้านและที่ดิน'\n",
    ")\n",
    "trace6 = go.Bar(\n",
    "    x=[\"group 0\", \"group 1\", \"group 2\", \"group 3\", \"group 4\", \"group 5\"],\n",
    "    y=[0,76,1,0,0,0],\n",
    "    name='อื่น ๆ'\n",
    ")\n",
    "\n",
    "layout = go.Layout(\n",
    "    barmode='stack'\n",
    ")\n",
    "\n",
    "fig = go.Figure(data=[trace1, trace2, trace3, trace4, trace5, trace6], layout=layout)\n",
    "py.offline.iplot(fig)"
   ]
  },
  {
   "cell_type": "markdown",
   "metadata": {},
   "source": [
    "# save to html"
   ]
  },
  {
   "cell_type": "code",
   "execution_count": 27,
   "metadata": {},
   "outputs": [
    {
     "data": {
      "text/plain": [
       "'file://C:\\\\Users\\\\wsirigate\\\\Desktop\\\\FDS_Project\\\\New folder\\\\temp-plot.html'"
      ]
     },
     "execution_count": 27,
     "metadata": {},
     "output_type": "execute_result"
    }
   ],
   "source": [
    "# Plot\n",
    "py.offline.plot({\n",
    "\"data\": [\n",
    "    trace1, trace2, trace3, trace4, trace5, trace6\n",
    "],\n",
    "\"layout\": Layout(\n",
    "    barmode='stack'\n",
    ")\n",
    "})"
   ]
  },
  {
   "cell_type": "code",
   "execution_count": null,
   "metadata": {},
   "outputs": [],
   "source": []
  },
  {
   "cell_type": "code",
   "execution_count": null,
   "metadata": {},
   "outputs": [],
   "source": []
  }
 ],
 "metadata": {
  "kernelspec": {
   "display_name": "Python 3",
   "language": "python",
   "name": "python3"
  },
  "language_info": {
   "codemirror_mode": {
    "name": "ipython",
    "version": 3
   },
   "file_extension": ".py",
   "mimetype": "text/x-python",
   "name": "python",
   "nbconvert_exporter": "python",
   "pygments_lexer": "ipython3",
   "version": "3.7.3"
  }
 },
 "nbformat": 4,
 "nbformat_minor": 2
}
