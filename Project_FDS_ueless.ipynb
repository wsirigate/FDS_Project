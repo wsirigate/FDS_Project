{
 "cells": [
  {
   "cell_type": "markdown",
   "metadata": {},
   "source": [
    "# Import libary"
   ]
  },
  {
   "cell_type": "code",
   "execution_count": 1,
   "metadata": {},
   "outputs": [],
   "source": [
    "import pandas as pd\n",
    "import seaborn as sb\n",
    "import matplotlib.pyplot as plt"
   ]
  },
  {
   "cell_type": "markdown",
   "metadata": {},
   "source": [
    "# import data"
   ]
  },
  {
   "cell_type": "code",
   "execution_count": 2,
   "metadata": {},
   "outputs": [],
   "source": [
    "# สัมประสิทธิ์ความไม่เสมอภาค (Gini coefficient) ของรายได้ จำแนกตามภาค และเขตพื้นที่ พ.ศ. 2531 - 2560\n",
    "df_gini_income = pd.read_excel(\"gini_income.xlsx\")\n",
    "\n",
    "# สัมประสิทธิ์ความไม่เสมอภาค (Gini coefficient) ของรายจ่ายเพื่อการอุปโภคบริโภค จำแนกตามภาค พ.ศ. 2531 - 2560\n",
    "df_gini_expenditure = pd.read_excel(\"gnini_expenditure.xls\")\n",
    "df_gini_expenditure2 = pd.read_excel(\"gnini_expenditure.xls\", \"เขตพื้นที่\")\n",
    "\n"
   ]
  },
  {
   "cell_type": "markdown",
   "metadata": {},
   "source": [
    " "
   ]
  },
  {
   "cell_type": "markdown",
   "metadata": {},
   "source": [
    " "
   ]
  },
  {
   "cell_type": "markdown",
   "metadata": {},
   "source": [
    " "
   ]
  },
  {
   "cell_type": "markdown",
   "metadata": {},
   "source": [
    "## สัมประสิทธิ์ความไม่เสมอภาค (Gini coefficient) ของรายได้ จำแนกตามภาค และเขตพื้นที่ พ.ศ. 2531 - 2560"
   ]
  },
  {
   "cell_type": "code",
   "execution_count": 3,
   "metadata": {
    "scrolled": true
   },
   "outputs": [
    {
     "data": {
      "text/html": [
       "<div>\n",
       "<style scoped>\n",
       "    .dataframe tbody tr th:only-of-type {\n",
       "        vertical-align: middle;\n",
       "    }\n",
       "\n",
       "    .dataframe tbody tr th {\n",
       "        vertical-align: top;\n",
       "    }\n",
       "\n",
       "    .dataframe thead th {\n",
       "        text-align: right;\n",
       "    }\n",
       "</style>\n",
       "<table border=\"1\" class=\"dataframe\">\n",
       "  <thead>\n",
       "    <tr style=\"text-align: right;\">\n",
       "      <th></th>\n",
       "      <th>ปี</th>\n",
       "      <th>ทั่วราชอาณาจักร</th>\n",
       "      <th>กรุงเทพมหานคร</th>\n",
       "      <th>ภาคกลาง</th>\n",
       "      <th>ภาคเหนือ</th>\n",
       "      <th>ภาคตะวันออกเฉียงเหนือ</th>\n",
       "      <th>ภาคใต้</th>\n",
       "      <th>เขตเมือง</th>\n",
       "      <th>เขตชนบท</th>\n",
       "    </tr>\n",
       "  </thead>\n",
       "  <tbody>\n",
       "    <tr>\n",
       "      <th>0</th>\n",
       "      <td>2531</td>\n",
       "      <td>0.487</td>\n",
       "      <td>0.388</td>\n",
       "      <td>0.435</td>\n",
       "      <td>0.439</td>\n",
       "      <td>0.454</td>\n",
       "      <td>0.463</td>\n",
       "      <td>0.434</td>\n",
       "      <td>0.439</td>\n",
       "    </tr>\n",
       "    <tr>\n",
       "      <th>1</th>\n",
       "      <td>2533</td>\n",
       "      <td>0.515</td>\n",
       "      <td>0.420</td>\n",
       "      <td>0.480</td>\n",
       "      <td>0.468</td>\n",
       "      <td>0.434</td>\n",
       "      <td>0.469</td>\n",
       "      <td>0.478</td>\n",
       "      <td>0.447</td>\n",
       "    </tr>\n",
       "    <tr>\n",
       "      <th>2</th>\n",
       "      <td>2535</td>\n",
       "      <td>0.536</td>\n",
       "      <td>0.457</td>\n",
       "      <td>0.462</td>\n",
       "      <td>0.476</td>\n",
       "      <td>0.471</td>\n",
       "      <td>0.481</td>\n",
       "      <td>0.494</td>\n",
       "      <td>0.439</td>\n",
       "    </tr>\n",
       "    <tr>\n",
       "      <th>3</th>\n",
       "      <td>2537</td>\n",
       "      <td>0.520</td>\n",
       "      <td>0.405</td>\n",
       "      <td>0.461</td>\n",
       "      <td>0.468</td>\n",
       "      <td>0.472</td>\n",
       "      <td>0.498</td>\n",
       "      <td>0.473</td>\n",
       "      <td>0.457</td>\n",
       "    </tr>\n",
       "    <tr>\n",
       "      <th>4</th>\n",
       "      <td>2539</td>\n",
       "      <td>0.513</td>\n",
       "      <td>0.401</td>\n",
       "      <td>0.468</td>\n",
       "      <td>0.458</td>\n",
       "      <td>0.470</td>\n",
       "      <td>0.470</td>\n",
       "      <td>0.479</td>\n",
       "      <td>0.440</td>\n",
       "    </tr>\n",
       "  </tbody>\n",
       "</table>\n",
       "</div>"
      ],
      "text/plain": [
       "     ปี  ทั่วราชอาณาจักร  กรุงเทพมหานคร  ภาคกลาง  ภาคเหนือ  \\\n",
       "0  2531            0.487          0.388    0.435     0.439   \n",
       "1  2533            0.515          0.420    0.480     0.468   \n",
       "2  2535            0.536          0.457    0.462     0.476   \n",
       "3  2537            0.520          0.405    0.461     0.468   \n",
       "4  2539            0.513          0.401    0.468     0.458   \n",
       "\n",
       "   ภาคตะวันออกเฉียงเหนือ  ภาคใต้  เขตเมือง  เขตชนบท  \n",
       "0                  0.454   0.463     0.434    0.439  \n",
       "1                  0.434   0.469     0.478    0.447  \n",
       "2                  0.471   0.481     0.494    0.439  \n",
       "3                  0.472   0.498     0.473    0.457  \n",
       "4                  0.470   0.470     0.479    0.440  "
      ]
     },
     "execution_count": 3,
     "metadata": {},
     "output_type": "execute_result"
    }
   ],
   "source": [
    "df_gini_income.head()"
   ]
  },
  {
   "cell_type": "markdown",
   "metadata": {},
   "source": [
    "### แสดงว่าความไม่เท่าเทียมกันของรายได้ (ภาค/ปี)"
   ]
  },
  {
   "cell_type": "code",
   "execution_count": 4,
   "metadata": {},
   "outputs": [
    {
     "data": {
      "image/png": "[encoded data removed]",
      "text/plain": [
       "<Figure size 1080x576 with 1 Axes>"
      ]
     },
     "metadata": {
      "needs_background": "light"
     },
     "output_type": "display_data"
    }
   ],
   "source": [
    "fig, axes = plt.subplots(figsize=(15,8))\n",
    "\n",
    "plt.plot(df_gini_income['ปี'], df_gini_income['ภาคกลาง'], marker='*', color='red')\n",
    "plt.plot(df_gini_income['ปี'], df_gini_income['ภาคเหนือ'], marker='*', color='green')\n",
    "plt.plot(df_gini_income['ปี'], df_gini_income['ภาคตะวันออกเฉียงเหนือ'], marker='*', color='blue')\n",
    "plt.plot(df_gini_income['ปี'], df_gini_income['ภาคใต้'], marker='*', color='orange')\n",
    "plt.title(\"GINI ratio / Income / Region\")\n",
    "plt.xlabel(\"Year\")\n",
    "plt.ylabel(\"Gini ratio\")\n",
    "plt.legend(['Central Region', 'North Region', 'The North East', 'Southern region'])\n",
    "plt.show()"
   ]
  },
  {
   "cell_type": "markdown",
   "metadata": {},
   "source": [
    "### แสดงว่าความไม่เท่าเทียมกันของรายได้ในเขตเมืองและชนบท"
   ]
  },
  {
   "cell_type": "code",
   "execution_count": 5,
   "metadata": {},
   "outputs": [
    {
     "data": {
      "image/png": "[encoded data removed]",
      "text/plain": [
       "<Figure size 1080x576 with 1 Axes>"
      ]
     },
     "metadata": {
      "needs_background": "light"
     },
     "output_type": "display_data"
    }
   ],
   "source": [
    "fig, axes = plt.subplots(figsize=(15,8))\n",
    "\n",
    "plt.plot(df_gini_income['ปี'], df_gini_income['เขตเมือง'], marker='o', color='purple')\n",
    "plt.plot(df_gini_income['ปี'], df_gini_income['เขตชนบท'], marker='o', color='pink')\n",
    "plt.title(\"GINI ratio in city and countryside\")\n",
    "plt.xlabel(\"Year\")\n",
    "plt.ylabel(\"Gini ratio\")\n",
    "plt.legend(['City', 'Countryside'])\n",
    "plt.show()"
   ]
  },
  {
   "cell_type": "markdown",
   "metadata": {},
   "source": [
    "### แสดงว่าความไม่เท่าเทียมกันของรายได้ทั่วประเทศ"
   ]
  },
  {
   "cell_type": "code",
   "execution_count": 6,
   "metadata": {},
   "outputs": [
    {
     "data": {
      "image/png": "[encoded data removed]",
      "text/plain": [
       "<Figure size 1080x576 with 1 Axes>"
      ]
     },
     "metadata": {
      "needs_background": "light"
     },
     "output_type": "display_data"
    }
   ],
   "source": [
    "fig, axes = plt.subplots(figsize=(15,8))\n",
    "\n",
    "plt.plot(df_gini_income['ปี'], df_gini_income['ทั่วราชอาณาจักร'], marker='o', color='orange')\n",
    "plt.title(\"GINI ratio Throughout the kingdom\")\n",
    "plt.xlabel(\"Year\")\n",
    "plt.ylabel(\"Gini ratio\")\n",
    "plt.show()"
   ]
  },
  {
   "cell_type": "code",
   "execution_count": 7,
   "metadata": {},
   "outputs": [],
   "source": [
    "# หมายเหตุ: ค่าสัมประสิทธิ์ จีนี่ (Gini coefficient) เป็นเครื่องมือในการวัดความไม่เท่าเทียมในรูปของสัดส่วน (Gini ratio)\n",
    "# ซึ่งค่าอยู่ระหว่าง 0 กับ 1 ยิ่งค่าเข้าใกล้ 1 มากเท่าไร \n",
    "# แสดงว่าความไม่เท่าเทียมกันของรายได้ยิ่งมีมากขึ้น โดยคำนวณจากการใช้ค่าของพื้นที่ระหว่าง Lorenz curve\n",
    "# ของการกระจายรายได้กับเส้นการกระจายรายได้สัมบูรณ์เป็นตัวตั้ง"
   ]
  },
  {
   "cell_type": "code",
   "execution_count": 8,
   "metadata": {},
   "outputs": [
    {
     "data": {
      "text/html": [
       "<div>\n",
       "<style scoped>\n",
       "    .dataframe tbody tr th:only-of-type {\n",
       "        vertical-align: middle;\n",
       "    }\n",
       "\n",
       "    .dataframe tbody tr th {\n",
       "        vertical-align: top;\n",
       "    }\n",
       "\n",
       "    .dataframe thead th {\n",
       "        text-align: right;\n",
       "    }\n",
       "</style>\n",
       "<table border=\"1\" class=\"dataframe\">\n",
       "  <thead>\n",
       "    <tr style=\"text-align: right;\">\n",
       "      <th></th>\n",
       "      <th>ปี</th>\n",
       "      <th>ทั่วราชอาณาจักร</th>\n",
       "      <th>กรุงเทพมหานคร</th>\n",
       "      <th>ภาคกลาง</th>\n",
       "      <th>ภาคเหนือ</th>\n",
       "      <th>ภาคตะวันออกเฉียงเหนือ</th>\n",
       "      <th>ภาคใต้</th>\n",
       "    </tr>\n",
       "  </thead>\n",
       "  <tbody>\n",
       "    <tr>\n",
       "      <th>14</th>\n",
       "      <td>2554</td>\n",
       "      <td>0.375</td>\n",
       "      <td>0.398</td>\n",
       "      <td>0.325</td>\n",
       "      <td>0.349</td>\n",
       "      <td>0.353</td>\n",
       "      <td>0.343</td>\n",
       "    </tr>\n",
       "    <tr>\n",
       "      <th>9</th>\n",
       "      <td>2549</td>\n",
       "      <td>0.420</td>\n",
       "      <td>0.362</td>\n",
       "      <td>0.355</td>\n",
       "      <td>0.410</td>\n",
       "      <td>0.399</td>\n",
       "      <td>0.374</td>\n",
       "    </tr>\n",
       "    <tr>\n",
       "      <th>1</th>\n",
       "      <td>2533</td>\n",
       "      <td>0.443</td>\n",
       "      <td>0.384</td>\n",
       "      <td>0.386</td>\n",
       "      <td>0.411</td>\n",
       "      <td>0.382</td>\n",
       "      <td>0.361</td>\n",
       "    </tr>\n",
       "    <tr>\n",
       "      <th>12</th>\n",
       "      <td>2552</td>\n",
       "      <td>0.398</td>\n",
       "      <td>0.343</td>\n",
       "      <td>0.347</td>\n",
       "      <td>0.370</td>\n",
       "      <td>0.371</td>\n",
       "      <td>0.363</td>\n",
       "    </tr>\n",
       "    <tr>\n",
       "      <th>16</th>\n",
       "      <td>2556</td>\n",
       "      <td>0.378</td>\n",
       "      <td>0.333</td>\n",
       "      <td>0.332</td>\n",
       "      <td>0.346</td>\n",
       "      <td>0.340</td>\n",
       "      <td>0.345</td>\n",
       "    </tr>\n",
       "  </tbody>\n",
       "</table>\n",
       "</div>"
      ],
      "text/plain": [
       "      ปี  ทั่วราชอาณาจักร  กรุงเทพมหานคร  ภาคกลาง  ภาคเหนือ  \\\n",
       "14  2554            0.375          0.398    0.325     0.349   \n",
       "9   2549            0.420          0.362    0.355     0.410   \n",
       "1   2533            0.443          0.384    0.386     0.411   \n",
       "12  2552            0.398          0.343    0.347     0.370   \n",
       "16  2556            0.378          0.333    0.332     0.346   \n",
       "\n",
       "    ภาคตะวันออกเฉียงเหนือ  ภาคใต้  \n",
       "14                  0.353   0.343  \n",
       "9                   0.399   0.374  \n",
       "1                   0.382   0.361  \n",
       "12                  0.371   0.363  \n",
       "16                  0.340   0.345  "
      ]
     },
     "execution_count": 8,
     "metadata": {},
     "output_type": "execute_result"
    }
   ],
   "source": [
    "df_gini_expenditure.sample(5)"
   ]
  },
  {
   "cell_type": "markdown",
   "metadata": {},
   "source": [
    " "
   ]
  },
  {
   "cell_type": "markdown",
   "metadata": {},
   "source": [
    " "
   ]
  },
  {
   "cell_type": "markdown",
   "metadata": {},
   "source": [
    " "
   ]
  },
  {
   "cell_type": "markdown",
   "metadata": {},
   "source": [
    "## สัมประสิทธิ์ความไม่เสมอภาค (Gini coefficient) ของรายจ่ายเพื่อการอุปโภคบริโภค จำแนกตามภาค พ.ศ. 2531 - 2560"
   ]
  },
  {
   "cell_type": "code",
   "execution_count": 9,
   "metadata": {},
   "outputs": [
    {
     "data": {
      "text/html": [
       "<div>\n",
       "<style scoped>\n",
       "    .dataframe tbody tr th:only-of-type {\n",
       "        vertical-align: middle;\n",
       "    }\n",
       "\n",
       "    .dataframe tbody tr th {\n",
       "        vertical-align: top;\n",
       "    }\n",
       "\n",
       "    .dataframe thead th {\n",
       "        text-align: right;\n",
       "    }\n",
       "</style>\n",
       "<table border=\"1\" class=\"dataframe\">\n",
       "  <thead>\n",
       "    <tr style=\"text-align: right;\">\n",
       "      <th></th>\n",
       "      <th>ปี</th>\n",
       "      <th>ทั่วราชอาณาจักร</th>\n",
       "      <th>กรุงเทพมหานคร</th>\n",
       "      <th>ภาคกลาง</th>\n",
       "      <th>ภาคเหนือ</th>\n",
       "      <th>ภาคตะวันออกเฉียงเหนือ</th>\n",
       "      <th>ภาคใต้</th>\n",
       "    </tr>\n",
       "  </thead>\n",
       "  <tbody>\n",
       "    <tr>\n",
       "      <th>0</th>\n",
       "      <td>2531</td>\n",
       "      <td>0.439</td>\n",
       "      <td>0.363</td>\n",
       "      <td>0.377</td>\n",
       "      <td>0.395</td>\n",
       "      <td>0.388</td>\n",
       "      <td>0.377</td>\n",
       "    </tr>\n",
       "    <tr>\n",
       "      <th>1</th>\n",
       "      <td>2533</td>\n",
       "      <td>0.443</td>\n",
       "      <td>0.384</td>\n",
       "      <td>0.386</td>\n",
       "      <td>0.411</td>\n",
       "      <td>0.382</td>\n",
       "      <td>0.361</td>\n",
       "    </tr>\n",
       "    <tr>\n",
       "      <th>2</th>\n",
       "      <td>2535</td>\n",
       "      <td>0.450</td>\n",
       "      <td>0.393</td>\n",
       "      <td>0.372</td>\n",
       "      <td>0.390</td>\n",
       "      <td>0.396</td>\n",
       "      <td>0.374</td>\n",
       "    </tr>\n",
       "    <tr>\n",
       "      <th>3</th>\n",
       "      <td>2537</td>\n",
       "      <td>0.438</td>\n",
       "      <td>0.364</td>\n",
       "      <td>0.373</td>\n",
       "      <td>0.398</td>\n",
       "      <td>0.391</td>\n",
       "      <td>0.398</td>\n",
       "    </tr>\n",
       "    <tr>\n",
       "      <th>4</th>\n",
       "      <td>2539</td>\n",
       "      <td>0.431</td>\n",
       "      <td>0.348</td>\n",
       "      <td>0.360</td>\n",
       "      <td>0.387</td>\n",
       "      <td>0.378</td>\n",
       "      <td>0.374</td>\n",
       "    </tr>\n",
       "  </tbody>\n",
       "</table>\n",
       "</div>"
      ],
      "text/plain": [
       "     ปี  ทั่วราชอาณาจักร  กรุงเทพมหานคร  ภาคกลาง  ภาคเหนือ  \\\n",
       "0  2531            0.439          0.363    0.377     0.395   \n",
       "1  2533            0.443          0.384    0.386     0.411   \n",
       "2  2535            0.450          0.393    0.372     0.390   \n",
       "3  2537            0.438          0.364    0.373     0.398   \n",
       "4  2539            0.431          0.348    0.360     0.387   \n",
       "\n",
       "   ภาคตะวันออกเฉียงเหนือ  ภาคใต้  \n",
       "0                  0.388   0.377  \n",
       "1                  0.382   0.361  \n",
       "2                  0.396   0.374  \n",
       "3                  0.391   0.398  \n",
       "4                  0.378   0.374  "
      ]
     },
     "execution_count": 9,
     "metadata": {},
     "output_type": "execute_result"
    }
   ],
   "source": [
    "df_gini_expenditure.head()"
   ]
  },
  {
   "cell_type": "code",
   "execution_count": 10,
   "metadata": {},
   "outputs": [
    {
     "data": {
      "text/html": [
       "<div>\n",
       "<style scoped>\n",
       "    .dataframe tbody tr th:only-of-type {\n",
       "        vertical-align: middle;\n",
       "    }\n",
       "\n",
       "    .dataframe tbody tr th {\n",
       "        vertical-align: top;\n",
       "    }\n",
       "\n",
       "    .dataframe thead th {\n",
       "        text-align: right;\n",
       "    }\n",
       "</style>\n",
       "<table border=\"1\" class=\"dataframe\">\n",
       "  <thead>\n",
       "    <tr style=\"text-align: right;\">\n",
       "      <th></th>\n",
       "      <th>ปี</th>\n",
       "      <th>ทั่วประเทศ</th>\n",
       "      <th>เขตเมือง</th>\n",
       "      <th>เขตชนบท</th>\n",
       "    </tr>\n",
       "  </thead>\n",
       "  <tbody>\n",
       "    <tr>\n",
       "      <th>0</th>\n",
       "      <td>2531</td>\n",
       "      <td>0.439</td>\n",
       "      <td>0.406</td>\n",
       "      <td>0.379</td>\n",
       "    </tr>\n",
       "    <tr>\n",
       "      <th>1</th>\n",
       "      <td>2533</td>\n",
       "      <td>0.443</td>\n",
       "      <td>0.417</td>\n",
       "      <td>0.386</td>\n",
       "    </tr>\n",
       "    <tr>\n",
       "      <th>2</th>\n",
       "      <td>2535</td>\n",
       "      <td>0.450</td>\n",
       "      <td>0.423</td>\n",
       "      <td>0.364</td>\n",
       "    </tr>\n",
       "    <tr>\n",
       "      <th>3</th>\n",
       "      <td>2537</td>\n",
       "      <td>0.438</td>\n",
       "      <td>0.409</td>\n",
       "      <td>0.381</td>\n",
       "    </tr>\n",
       "    <tr>\n",
       "      <th>4</th>\n",
       "      <td>2539</td>\n",
       "      <td>0.431</td>\n",
       "      <td>0.410</td>\n",
       "      <td>0.359</td>\n",
       "    </tr>\n",
       "  </tbody>\n",
       "</table>\n",
       "</div>"
      ],
      "text/plain": [
       "     ปี  ทั่วประเทศ  เขตเมือง  เขตชนบท\n",
       "0  2531       0.439     0.406    0.379\n",
       "1  2533       0.443     0.417    0.386\n",
       "2  2535       0.450     0.423    0.364\n",
       "3  2537       0.438     0.409    0.381\n",
       "4  2539       0.431     0.410    0.359"
      ]
     },
     "execution_count": 10,
     "metadata": {},
     "output_type": "execute_result"
    }
   ],
   "source": [
    "df_gini_expenditure2.head()"
   ]
  },
  {
   "cell_type": "markdown",
   "metadata": {},
   "source": [
    "### Merge Table"
   ]
  },
  {
   "cell_type": "code",
   "execution_count": 11,
   "metadata": {},
   "outputs": [],
   "source": [
    "df_gini_expenditure = df_gini_expenditure.join(df_gini_expenditure2.set_index('ปี'), on='ปี')"
   ]
  },
  {
   "cell_type": "code",
   "execution_count": 12,
   "metadata": {},
   "outputs": [
    {
     "data": {
      "text/html": [
       "<div>\n",
       "<style scoped>\n",
       "    .dataframe tbody tr th:only-of-type {\n",
       "        vertical-align: middle;\n",
       "    }\n",
       "\n",
       "    .dataframe tbody tr th {\n",
       "        vertical-align: top;\n",
       "    }\n",
       "\n",
       "    .dataframe thead th {\n",
       "        text-align: right;\n",
       "    }\n",
       "</style>\n",
       "<table border=\"1\" class=\"dataframe\">\n",
       "  <thead>\n",
       "    <tr style=\"text-align: right;\">\n",
       "      <th></th>\n",
       "      <th>ปี</th>\n",
       "      <th>ทั่วราชอาณาจักร</th>\n",
       "      <th>กรุงเทพมหานคร</th>\n",
       "      <th>ภาคกลาง</th>\n",
       "      <th>ภาคเหนือ</th>\n",
       "      <th>ภาคตะวันออกเฉียงเหนือ</th>\n",
       "      <th>ภาคใต้</th>\n",
       "      <th>ทั่วประเทศ</th>\n",
       "      <th>เขตเมือง</th>\n",
       "      <th>เขตชนบท</th>\n",
       "    </tr>\n",
       "  </thead>\n",
       "  <tbody>\n",
       "    <tr>\n",
       "      <th>12</th>\n",
       "      <td>2552</td>\n",
       "      <td>0.398</td>\n",
       "      <td>0.343</td>\n",
       "      <td>0.347</td>\n",
       "      <td>0.370</td>\n",
       "      <td>0.371</td>\n",
       "      <td>0.363</td>\n",
       "      <td>0.398</td>\n",
       "      <td>0.373</td>\n",
       "      <td>0.357</td>\n",
       "    </tr>\n",
       "    <tr>\n",
       "      <th>6</th>\n",
       "      <td>2543</td>\n",
       "      <td>0.428</td>\n",
       "      <td>0.329</td>\n",
       "      <td>0.366</td>\n",
       "      <td>0.375</td>\n",
       "      <td>0.352</td>\n",
       "      <td>0.374</td>\n",
       "      <td>0.428</td>\n",
       "      <td>0.395</td>\n",
       "      <td>0.359</td>\n",
       "    </tr>\n",
       "    <tr>\n",
       "      <th>4</th>\n",
       "      <td>2539</td>\n",
       "      <td>0.431</td>\n",
       "      <td>0.348</td>\n",
       "      <td>0.360</td>\n",
       "      <td>0.387</td>\n",
       "      <td>0.378</td>\n",
       "      <td>0.374</td>\n",
       "      <td>0.431</td>\n",
       "      <td>0.410</td>\n",
       "      <td>0.359</td>\n",
       "    </tr>\n",
       "    <tr>\n",
       "      <th>14</th>\n",
       "      <td>2554</td>\n",
       "      <td>0.375</td>\n",
       "      <td>0.398</td>\n",
       "      <td>0.325</td>\n",
       "      <td>0.349</td>\n",
       "      <td>0.353</td>\n",
       "      <td>0.343</td>\n",
       "      <td>0.375</td>\n",
       "      <td>0.369</td>\n",
       "      <td>0.334</td>\n",
       "    </tr>\n",
       "    <tr>\n",
       "      <th>9</th>\n",
       "      <td>2549</td>\n",
       "      <td>0.420</td>\n",
       "      <td>0.362</td>\n",
       "      <td>0.355</td>\n",
       "      <td>0.410</td>\n",
       "      <td>0.399</td>\n",
       "      <td>0.374</td>\n",
       "      <td>0.420</td>\n",
       "      <td>0.390</td>\n",
       "      <td>0.384</td>\n",
       "    </tr>\n",
       "  </tbody>\n",
       "</table>\n",
       "</div>"
      ],
      "text/plain": [
       "      ปี  ทั่วราชอาณาจักร  กรุงเทพมหานคร  ภาคกลาง  ภาคเหนือ  \\\n",
       "12  2552            0.398          0.343    0.347     0.370   \n",
       "6   2543            0.428          0.329    0.366     0.375   \n",
       "4   2539            0.431          0.348    0.360     0.387   \n",
       "14  2554            0.375          0.398    0.325     0.349   \n",
       "9   2549            0.420          0.362    0.355     0.410   \n",
       "\n",
       "    ภาคตะวันออกเฉียงเหนือ  ภาคใต้  ทั่วประเทศ  เขตเมือง  เขตชนบท  \n",
       "12                  0.371   0.363       0.398     0.373    0.357  \n",
       "6                   0.352   0.374       0.428     0.395    0.359  \n",
       "4                   0.378   0.374       0.431     0.410    0.359  \n",
       "14                  0.353   0.343       0.375     0.369    0.334  \n",
       "9                   0.399   0.374       0.420     0.390    0.384  "
      ]
     },
     "execution_count": 12,
     "metadata": {},
     "output_type": "execute_result"
    }
   ],
   "source": [
    "df_gini_expenditure.sample(5)"
   ]
  },
  {
   "cell_type": "code",
   "execution_count": 13,
   "metadata": {},
   "outputs": [
    {
     "data": {
      "text/plain": [
       "0     False\n",
       "1     False\n",
       "2     False\n",
       "3     False\n",
       "4     False\n",
       "5     False\n",
       "6     False\n",
       "7     False\n",
       "8     False\n",
       "9     False\n",
       "10    False\n",
       "11    False\n",
       "12    False\n",
       "13    False\n",
       "14    False\n",
       "15    False\n",
       "16    False\n",
       "17    False\n",
       "18    False\n",
       "19    False\n",
       "20    False\n",
       "dtype: bool"
      ]
     },
     "execution_count": 13,
     "metadata": {},
     "output_type": "execute_result"
    }
   ],
   "source": [
    "df_gini_expenditure.duplicated()"
   ]
  },
  {
   "cell_type": "code",
   "execution_count": 14,
   "metadata": {},
   "outputs": [
    {
     "data": {
      "text/html": [
       "<div>\n",
       "<style scoped>\n",
       "    .dataframe tbody tr th:only-of-type {\n",
       "        vertical-align: middle;\n",
       "    }\n",
       "\n",
       "    .dataframe tbody tr th {\n",
       "        vertical-align: top;\n",
       "    }\n",
       "\n",
       "    .dataframe thead th {\n",
       "        text-align: right;\n",
       "    }\n",
       "</style>\n",
       "<table border=\"1\" class=\"dataframe\">\n",
       "  <thead>\n",
       "    <tr style=\"text-align: right;\">\n",
       "      <th></th>\n",
       "      <th>ปี</th>\n",
       "      <th>ทั่วราชอาณาจักร</th>\n",
       "      <th>กรุงเทพมหานคร</th>\n",
       "      <th>ภาคกลาง</th>\n",
       "      <th>ภาคเหนือ</th>\n",
       "      <th>ภาคตะวันออกเฉียงเหนือ</th>\n",
       "      <th>ภาคใต้</th>\n",
       "      <th>ทั่วประเทศ</th>\n",
       "      <th>เขตเมือง</th>\n",
       "      <th>เขตชนบท</th>\n",
       "    </tr>\n",
       "  </thead>\n",
       "  <tbody>\n",
       "    <tr>\n",
       "      <th>0</th>\n",
       "      <td>2531</td>\n",
       "      <td>0.439000</td>\n",
       "      <td>0.363000</td>\n",
       "      <td>0.377000</td>\n",
       "      <td>0.395000</td>\n",
       "      <td>0.38800</td>\n",
       "      <td>0.377000</td>\n",
       "      <td>0.439000</td>\n",
       "      <td>0.406000</td>\n",
       "      <td>0.379000</td>\n",
       "    </tr>\n",
       "    <tr>\n",
       "      <th>1</th>\n",
       "      <td>2533</td>\n",
       "      <td>0.443000</td>\n",
       "      <td>0.384000</td>\n",
       "      <td>0.386000</td>\n",
       "      <td>0.411000</td>\n",
       "      <td>0.38200</td>\n",
       "      <td>0.361000</td>\n",
       "      <td>0.443000</td>\n",
       "      <td>0.417000</td>\n",
       "      <td>0.386000</td>\n",
       "    </tr>\n",
       "    <tr>\n",
       "      <th>2</th>\n",
       "      <td>2535</td>\n",
       "      <td>0.450000</td>\n",
       "      <td>0.393000</td>\n",
       "      <td>0.372000</td>\n",
       "      <td>0.390000</td>\n",
       "      <td>0.39600</td>\n",
       "      <td>0.374000</td>\n",
       "      <td>0.450000</td>\n",
       "      <td>0.423000</td>\n",
       "      <td>0.364000</td>\n",
       "    </tr>\n",
       "    <tr>\n",
       "      <th>3</th>\n",
       "      <td>2537</td>\n",
       "      <td>0.438000</td>\n",
       "      <td>0.364000</td>\n",
       "      <td>0.373000</td>\n",
       "      <td>0.398000</td>\n",
       "      <td>0.39100</td>\n",
       "      <td>0.398000</td>\n",
       "      <td>0.438000</td>\n",
       "      <td>0.409000</td>\n",
       "      <td>0.381000</td>\n",
       "    </tr>\n",
       "    <tr>\n",
       "      <th>4</th>\n",
       "      <td>2539</td>\n",
       "      <td>0.431000</td>\n",
       "      <td>0.348000</td>\n",
       "      <td>0.360000</td>\n",
       "      <td>0.387000</td>\n",
       "      <td>0.37800</td>\n",
       "      <td>0.374000</td>\n",
       "      <td>0.431000</td>\n",
       "      <td>0.410000</td>\n",
       "      <td>0.359000</td>\n",
       "    </tr>\n",
       "    <tr>\n",
       "      <th>5</th>\n",
       "      <td>2541</td>\n",
       "      <td>0.409000</td>\n",
       "      <td>0.326000</td>\n",
       "      <td>0.335000</td>\n",
       "      <td>0.358000</td>\n",
       "      <td>0.34300</td>\n",
       "      <td>0.361000</td>\n",
       "      <td>0.409000</td>\n",
       "      <td>0.378000</td>\n",
       "      <td>0.349000</td>\n",
       "    </tr>\n",
       "    <tr>\n",
       "      <th>6</th>\n",
       "      <td>2543</td>\n",
       "      <td>0.428000</td>\n",
       "      <td>0.329000</td>\n",
       "      <td>0.366000</td>\n",
       "      <td>0.375000</td>\n",
       "      <td>0.35200</td>\n",
       "      <td>0.374000</td>\n",
       "      <td>0.428000</td>\n",
       "      <td>0.395000</td>\n",
       "      <td>0.359000</td>\n",
       "    </tr>\n",
       "    <tr>\n",
       "      <th>7</th>\n",
       "      <td>2545</td>\n",
       "      <td>0.419000</td>\n",
       "      <td>0.365000</td>\n",
       "      <td>0.357000</td>\n",
       "      <td>0.384000</td>\n",
       "      <td>0.35600</td>\n",
       "      <td>0.368000</td>\n",
       "      <td>0.419000</td>\n",
       "      <td>0.393000</td>\n",
       "      <td>0.353000</td>\n",
       "    </tr>\n",
       "    <tr>\n",
       "      <th>8</th>\n",
       "      <td>2547</td>\n",
       "      <td>0.425000</td>\n",
       "      <td>0.359000</td>\n",
       "      <td>0.363000</td>\n",
       "      <td>0.409000</td>\n",
       "      <td>0.38200</td>\n",
       "      <td>0.389000</td>\n",
       "      <td>0.425000</td>\n",
       "      <td>0.393000</td>\n",
       "      <td>0.382000</td>\n",
       "    </tr>\n",
       "    <tr>\n",
       "      <th>9</th>\n",
       "      <td>2549</td>\n",
       "      <td>0.420000</td>\n",
       "      <td>0.362000</td>\n",
       "      <td>0.355000</td>\n",
       "      <td>0.410000</td>\n",
       "      <td>0.39900</td>\n",
       "      <td>0.374000</td>\n",
       "      <td>0.420000</td>\n",
       "      <td>0.390000</td>\n",
       "      <td>0.384000</td>\n",
       "    </tr>\n",
       "    <tr>\n",
       "      <th>10</th>\n",
       "      <td>2550</td>\n",
       "      <td>0.398000</td>\n",
       "      <td>0.344000</td>\n",
       "      <td>0.340000</td>\n",
       "      <td>0.385000</td>\n",
       "      <td>0.37300</td>\n",
       "      <td>0.371000</td>\n",
       "      <td>0.398000</td>\n",
       "      <td>0.372000</td>\n",
       "      <td>0.360000</td>\n",
       "    </tr>\n",
       "    <tr>\n",
       "      <th>11</th>\n",
       "      <td>2551</td>\n",
       "      <td>0.405000</td>\n",
       "      <td>0.357000</td>\n",
       "      <td>0.344000</td>\n",
       "      <td>0.387000</td>\n",
       "      <td>0.37400</td>\n",
       "      <td>0.351000</td>\n",
       "      <td>0.405000</td>\n",
       "      <td>0.381000</td>\n",
       "      <td>0.356000</td>\n",
       "    </tr>\n",
       "    <tr>\n",
       "      <th>12</th>\n",
       "      <td>2552</td>\n",
       "      <td>0.398000</td>\n",
       "      <td>0.343000</td>\n",
       "      <td>0.347000</td>\n",
       "      <td>0.370000</td>\n",
       "      <td>0.37100</td>\n",
       "      <td>0.363000</td>\n",
       "      <td>0.398000</td>\n",
       "      <td>0.373000</td>\n",
       "      <td>0.357000</td>\n",
       "    </tr>\n",
       "    <tr>\n",
       "      <th>13</th>\n",
       "      <td>2553</td>\n",
       "      <td>0.396000</td>\n",
       "      <td>0.354000</td>\n",
       "      <td>0.341000</td>\n",
       "      <td>0.389000</td>\n",
       "      <td>0.38500</td>\n",
       "      <td>0.353000</td>\n",
       "      <td>0.396000</td>\n",
       "      <td>0.376000</td>\n",
       "      <td>0.355000</td>\n",
       "    </tr>\n",
       "    <tr>\n",
       "      <th>14</th>\n",
       "      <td>2554</td>\n",
       "      <td>0.375000</td>\n",
       "      <td>0.398000</td>\n",
       "      <td>0.325000</td>\n",
       "      <td>0.349000</td>\n",
       "      <td>0.35300</td>\n",
       "      <td>0.343000</td>\n",
       "      <td>0.375000</td>\n",
       "      <td>0.369000</td>\n",
       "      <td>0.334000</td>\n",
       "    </tr>\n",
       "    <tr>\n",
       "      <th>15</th>\n",
       "      <td>2555</td>\n",
       "      <td>0.393000</td>\n",
       "      <td>0.368000</td>\n",
       "      <td>0.339000</td>\n",
       "      <td>0.353000</td>\n",
       "      <td>0.34900</td>\n",
       "      <td>0.370000</td>\n",
       "      <td>0.393000</td>\n",
       "      <td>0.380000</td>\n",
       "      <td>0.362000</td>\n",
       "    </tr>\n",
       "    <tr>\n",
       "      <th>16</th>\n",
       "      <td>2556</td>\n",
       "      <td>0.378000</td>\n",
       "      <td>0.333000</td>\n",
       "      <td>0.332000</td>\n",
       "      <td>0.346000</td>\n",
       "      <td>0.34000</td>\n",
       "      <td>0.345000</td>\n",
       "      <td>0.378000</td>\n",
       "      <td>0.364000</td>\n",
       "      <td>0.353000</td>\n",
       "    </tr>\n",
       "    <tr>\n",
       "      <th>17</th>\n",
       "      <td>2557</td>\n",
       "      <td>0.371000</td>\n",
       "      <td>0.338000</td>\n",
       "      <td>0.317000</td>\n",
       "      <td>0.328000</td>\n",
       "      <td>0.35100</td>\n",
       "      <td>0.354000</td>\n",
       "      <td>0.371000</td>\n",
       "      <td>0.360000</td>\n",
       "      <td>0.337000</td>\n",
       "    </tr>\n",
       "    <tr>\n",
       "      <th>18</th>\n",
       "      <td>2558</td>\n",
       "      <td>0.359000</td>\n",
       "      <td>0.343000</td>\n",
       "      <td>0.310000</td>\n",
       "      <td>0.310000</td>\n",
       "      <td>0.33800</td>\n",
       "      <td>0.347000</td>\n",
       "      <td>0.359000</td>\n",
       "      <td>0.353000</td>\n",
       "      <td>0.326000</td>\n",
       "    </tr>\n",
       "    <tr>\n",
       "      <th>19</th>\n",
       "      <td>2559</td>\n",
       "      <td>0.367300</td>\n",
       "      <td>0.337000</td>\n",
       "      <td>0.319200</td>\n",
       "      <td>0.328900</td>\n",
       "      <td>0.32920</td>\n",
       "      <td>0.360700</td>\n",
       "      <td>0.367300</td>\n",
       "      <td>0.361400</td>\n",
       "      <td>0.329000</td>\n",
       "    </tr>\n",
       "    <tr>\n",
       "      <th>20</th>\n",
       "      <td>2560</td>\n",
       "      <td>0.363972</td>\n",
       "      <td>0.337587</td>\n",
       "      <td>0.311942</td>\n",
       "      <td>0.332812</td>\n",
       "      <td>0.33296</td>\n",
       "      <td>0.344626</td>\n",
       "      <td>0.363972</td>\n",
       "      <td>0.359082</td>\n",
       "      <td>0.326425</td>\n",
       "    </tr>\n",
       "  </tbody>\n",
       "</table>\n",
       "</div>"
      ],
      "text/plain": [
       "      ปี  ทั่วราชอาณาจักร  กรุงเทพมหานคร   ภาคกลาง  ภาคเหนือ  \\\n",
       "0   2531         0.439000       0.363000  0.377000  0.395000   \n",
       "1   2533         0.443000       0.384000  0.386000  0.411000   \n",
       "2   2535         0.450000       0.393000  0.372000  0.390000   \n",
       "3   2537         0.438000       0.364000  0.373000  0.398000   \n",
       "4   2539         0.431000       0.348000  0.360000  0.387000   \n",
       "5   2541         0.409000       0.326000  0.335000  0.358000   \n",
       "6   2543         0.428000       0.329000  0.366000  0.375000   \n",
       "7   2545         0.419000       0.365000  0.357000  0.384000   \n",
       "8   2547         0.425000       0.359000  0.363000  0.409000   \n",
       "9   2549         0.420000       0.362000  0.355000  0.410000   \n",
       "10  2550         0.398000       0.344000  0.340000  0.385000   \n",
       "11  2551         0.405000       0.357000  0.344000  0.387000   \n",
       "12  2552         0.398000       0.343000  0.347000  0.370000   \n",
       "13  2553         0.396000       0.354000  0.341000  0.389000   \n",
       "14  2554         0.375000       0.398000  0.325000  0.349000   \n",
       "15  2555         0.393000       0.368000  0.339000  0.353000   \n",
       "16  2556         0.378000       0.333000  0.332000  0.346000   \n",
       "17  2557         0.371000       0.338000  0.317000  0.328000   \n",
       "18  2558         0.359000       0.343000  0.310000  0.310000   \n",
       "19  2559         0.367300       0.337000  0.319200  0.328900   \n",
       "20  2560         0.363972       0.337587  0.311942  0.332812   \n",
       "\n",
       "    ภาคตะวันออกเฉียงเหนือ    ภาคใต้  ทั่วประเทศ  เขตเมือง   เขตชนบท  \n",
       "0                 0.38800  0.377000    0.439000  0.406000  0.379000  \n",
       "1                 0.38200  0.361000    0.443000  0.417000  0.386000  \n",
       "2                 0.39600  0.374000    0.450000  0.423000  0.364000  \n",
       "3                 0.39100  0.398000    0.438000  0.409000  0.381000  \n",
       "4                 0.37800  0.374000    0.431000  0.410000  0.359000  \n",
       "5                 0.34300  0.361000    0.409000  0.378000  0.349000  \n",
       "6                 0.35200  0.374000    0.428000  0.395000  0.359000  \n",
       "7                 0.35600  0.368000    0.419000  0.393000  0.353000  \n",
       "8                 0.38200  0.389000    0.425000  0.393000  0.382000  \n",
       "9                 0.39900  0.374000    0.420000  0.390000  0.384000  \n",
       "10                0.37300  0.371000    0.398000  0.372000  0.360000  \n",
       "11                0.37400  0.351000    0.405000  0.381000  0.356000  \n",
       "12                0.37100  0.363000    0.398000  0.373000  0.357000  \n",
       "13                0.38500  0.353000    0.396000  0.376000  0.355000  \n",
       "14                0.35300  0.343000    0.375000  0.369000  0.334000  \n",
       "15                0.34900  0.370000    0.393000  0.380000  0.362000  \n",
       "16                0.34000  0.345000    0.378000  0.364000  0.353000  \n",
       "17                0.35100  0.354000    0.371000  0.360000  0.337000  \n",
       "18                0.33800  0.347000    0.359000  0.353000  0.326000  \n",
       "19                0.32920  0.360700    0.367300  0.361400  0.329000  \n",
       "20                0.33296  0.344626    0.363972  0.359082  0.326425  "
      ]
     },
     "execution_count": 14,
     "metadata": {},
     "output_type": "execute_result"
    }
   ],
   "source": [
    "df_gini_expenditure"
   ]
  },
  {
   "cell_type": "markdown",
   "metadata": {},
   "source": [
    "### ความไม่เท่าเทียมกันของรายจ่ายเพื่อการอุปโภคบริโภค (ภาค / ปี)"
   ]
  },
  {
   "cell_type": "code",
   "execution_count": 15,
   "metadata": {},
   "outputs": [
    {
     "data": {
      "image/png": "[encoded data removed]",
      "text/plain": [
       "<Figure size 1080x576 with 1 Axes>"
      ]
     },
     "metadata": {
      "needs_background": "light"
     },
     "output_type": "display_data"
    }
   ],
   "source": [
    "fig, axes = plt.subplots(figsize=(15,8))\n",
    "\n",
    "plt.plot(df_gini_expenditure['ปี'], df_gini_expenditure['ภาคกลาง'], marker='*', color='red')\n",
    "plt.plot(df_gini_expenditure['ปี'], df_gini_expenditure['ภาคเหนือ'], marker='*', color='green')\n",
    "plt.plot(df_gini_expenditure['ปี'], df_gini_expenditure['ภาคตะวันออกเฉียงเหนือ'], marker='*', color='blue')\n",
    "plt.plot(df_gini_expenditure['ปี'], df_gini_expenditure['ภาคใต้'], marker='*', color='orange')\n",
    "plt.title(\"GINI ratio / expenditure / Region\")\n",
    "plt.xlabel(\"Year\")\n",
    "plt.ylabel(\"Gini ratio\")\n",
    "plt.legend(['Central Region', 'North Region', 'The North East', 'Southern region'])\n",
    "plt.show()"
   ]
  },
  {
   "cell_type": "markdown",
   "metadata": {},
   "source": [
    "### ความไม่เท่าเทียมกันของรายจ่ายเพื่อการอุปโภคบริโภคในเมืองและชนบท"
   ]
  },
  {
   "cell_type": "code",
   "execution_count": 16,
   "metadata": {},
   "outputs": [
    {
     "data": {
      "image/png": "[encoded data removed]",
      "text/plain": [
       "<Figure size 1080x576 with 1 Axes>"
      ]
     },
     "metadata": {
      "needs_background": "light"
     },
     "output_type": "display_data"
    }
   ],
   "source": [
    "fig, axes = plt.subplots(figsize=(15,8))\n",
    "\n",
    "plt.plot(df_gini_expenditure['ปี'], df_gini_expenditure['เขตเมือง'], marker='.', color='purple')\n",
    "plt.plot(df_gini_expenditure['ปี'], df_gini_expenditure['เขตชนบท'], marker='.', color='pink')\n",
    "plt.title(\"GINI ratio in city and countryside\")\n",
    "plt.xlabel(\"Year\")\n",
    "plt.ylabel(\"Gini ratio\")\n",
    "plt.legend(['City', 'Countryside'])\n",
    "plt.show()"
   ]
  },
  {
   "cell_type": "markdown",
   "metadata": {},
   "source": [
    "### ความไม่เท่าเทียมกันของรายจ่ายเพื่อการอุปโภคบริโภคทั่วราชอาณาจักร"
   ]
  },
  {
   "cell_type": "code",
   "execution_count": 17,
   "metadata": {},
   "outputs": [
    {
     "data": {
      "image/png": "[encoded data removed]",
      "text/plain": [
       "<Figure size 1080x360 with 1 Axes>"
      ]
     },
     "metadata": {
      "needs_background": "light"
     },
     "output_type": "display_data"
    }
   ],
   "source": [
    "fig, axes = plt.subplots(figsize=(15,5))\n",
    "\n",
    "plt.plot(df_gini_expenditure['ปี'], df_gini_expenditure['ทั่วราชอาณาจักร'], marker='o', color='orange')\n",
    "plt.title(\"GINI ratio Throughout the kingdom\")\n",
    "plt.xlabel(\"Year\")\n",
    "plt.ylabel(\"Gini ratio\")\n",
    "\n",
    "plt.show()"
   ]
  },
  {
   "cell_type": "code",
   "execution_count": 18,
   "metadata": {},
   "outputs": [],
   "source": [
    "# หมายเหตุ: ค่าสัมประสิทธิ์ จีนี่ (Gini coefficient) เป็นเครื่องมือในการวัดความไม่เท่าเทียมในรูปของสัดส่วน (Gini ratio) ซึ่งมีค่าอยู่ระหว่าง 0 กับ 1\n",
    "# ยิ่งค่าเข้าใกล้ 1 มากเท่าไร แสดงว่าความไม่เท่าเทียมกันของรายจ่ายเพื่อการอุปโภคบริโภคมีมากขึ้น"
   ]
  },
  {
   "cell_type": "code",
   "execution_count": null,
   "metadata": {},
   "outputs": [],
   "source": []
  },
  {
   "cell_type": "code",
   "execution_count": null,
   "metadata": {},
   "outputs": [],
   "source": []
  },
  {
   "cell_type": "markdown",
   "metadata": {},
   "source": [
    "# Using Plotly"
   ]
  },
  {
   "cell_type": "markdown",
   "metadata": {},
   "source": [
    "### import libary"
   ]
  },
  {
   "cell_type": "code",
   "execution_count": 19,
   "metadata": {},
   "outputs": [
    {
     "data": {
      "text/html": [
       "<script type=\"text/javascript\">window.PlotlyConfig = {MathJaxConfig: 'local'};</script><script type=\"text/javascript\">if (window.MathJax) {MathJax.Hub.Config({SVG: {font: \"STIX-Web\"}});}</script><script>requirejs.config({paths: { 'plotly': ['https://cdn.plot.ly/plotly-latest.min']},});if(!window._Plotly) {require(['plotly'],function(plotly) {window._Plotly=plotly;});}</script>"
      ],
      "text/vnd.plotly.v1+html": [
       "<script type=\"text/javascript\">window.PlotlyConfig = {MathJaxConfig: 'local'};</script><script type=\"text/javascript\">if (window.MathJax) {MathJax.Hub.Config({SVG: {font: \"STIX-Web\"}});}</script><script>requirejs.config({paths: { 'plotly': ['https://cdn.plot.ly/plotly-latest.min']},});if(!window._Plotly) {require(['plotly'],function(plotly) {window._Plotly=plotly;});}</script>"
      ]
     },
     "metadata": {},
     "output_type": "display_data"
    }
   ],
   "source": [
    "import plotly as py\n",
    "import plotly.graph_objs as go\n",
    "from plotly.graph_objs import Scatter, Layout\n",
    "from plotly.offline import download_plotlyjs, init_notebook_mode, plot, iplot\n",
    "\n",
    "py.offline.init_notebook_mode(connected=True)\n",
    "import IPython"
   ]
  },
  {
   "cell_type": "markdown",
   "metadata": {},
   "source": [
    "### แสดงว่าความไม่เท่าเทียมกันของรายได้ (ภาค/ปี)"
   ]
  },
  {
   "cell_type": "code",
   "execution_count": 20,
   "metadata": {},
   "outputs": [
    {
     "data": {
      "application/vnd.plotly.v1+json": {
       "config": {
        "linkText": "Export to plot.ly",
        "plotlyServerURL": "https://plot.ly",
        "showLink": false
       },
       "data": [
        {
         "mode": "lines",
         "name": "ภาคกลาง",
         "type": "scatter",
         "uid": "4ad868bd-3c9a-42ad-a1f0-6d28a47d910a",
         "x": [
          2531,
          2533,
          2535,
          2537,
          2539,
          2541,
          2543,
          2545,
          2547,
          2549,
          2550,
          2552,
          2554,
          2556,
          2558,
          2560
         ],
         "y": [
          0.435,
          0.48,
          0.462,
          0.461,
          0.468,
          0.443,
          0.448,
          0.44,
          0.432,
          0.44,
          0.418,
          0.412,
          0.395,
          0.397,
          0.396,
          0.403154
         ]
        },
        {
         "mode": "lines",
         "name": "ภาคเหนือ",
         "type": "scatter",
         "uid": "6b400c8b-226f-43ba-b84c-0b262fc17e9f",
         "x": [
          2531,
          2533,
          2535,
          2537,
          2539,
          2541,
          2543,
          2545,
          2547,
          2549,
          2550,
          2552,
          2554,
          2556,
          2558,
          2560
         ],
         "y": [
          0.439,
          0.468,
          0.476,
          0.468,
          0.458,
          0.462,
          0.47,
          0.47,
          0.482,
          0.488,
          0.474,
          0.452,
          0.441,
          0.433,
          0.388,
          0.416927
         ]
        },
        {
         "mode": "lines",
         "name": "ภาคตะวันออกเฉียงเหนือ",
         "type": "scatter",
         "uid": "cd96247a-dadd-411c-b027-f2bcd060b230",
         "x": [
          2531,
          2533,
          2535,
          2537,
          2539,
          2541,
          2543,
          2545,
          2547,
          2549,
          2550,
          2552,
          2554,
          2556,
          2558,
          2560
         ],
         "y": [
          0.454,
          0.434,
          0.471,
          0.472,
          0.47,
          0.46,
          0.484,
          0.471,
          0.454,
          0.508,
          0.483,
          0.486,
          0.464,
          0.442,
          0.432,
          0.446455
         ]
        },
        {
         "mode": "lines",
         "name": "ภาคใต้",
         "type": "scatter",
         "uid": "b288a903-92a2-4fd0-9165-700d2cdb8c66",
         "x": [
          2531,
          2533,
          2535,
          2537,
          2539,
          2541,
          2543,
          2545,
          2547,
          2549,
          2550,
          2552,
          2554,
          2556,
          2558,
          2560
         ],
         "y": [
          0.463,
          0.469,
          0.481,
          0.498,
          0.47,
          0.491,
          0.476,
          0.464,
          0.447,
          0.477,
          0.464,
          0.478,
          0.462,
          0.443,
          0.451,
          0.445299
         ]
        }
       ],
       "layout": {
        "title": {
         "text": "แสดงว่าความไม่เท่าเทียมกันของรายได้ (ภาค/ปี)"
        },
        "xaxis": {
         "title": {
          "text": "Years"
         }
        },
        "yaxis": {
         "title": {
          "text": "Gini ratio"
         }
        }
       }
      },
      "text/html": [
       "<div id=\"2265264d-55c1-48e3-8b8c-fe57bd999537\" style=\"height: 525px; width: 100%;\" class=\"plotly-graph-div\"></div><script type=\"text/javascript\">require([\"plotly\"], function(Plotly) { window.PLOTLYENV=window.PLOTLYENV || {};window.PLOTLYENV.BASE_URL=\"https://plot.ly\";\n",
       "if (document.getElementById(\"2265264d-55c1-48e3-8b8c-fe57bd999537\")) {\n",
       "    Plotly.newPlot(\"2265264d-55c1-48e3-8b8c-fe57bd999537\", [{\"mode\": \"lines\", \"name\": \"\\u0e20\\u0e32\\u0e04\\u0e01\\u0e25\\u0e32\\u0e07\", \"x\": [2531, 2533, 2535, 2537, 2539, 2541, 2543, 2545, 2547, 2549, 2550, 2552, 2554, 2556, 2558, 2560], \"y\": [0.435, 0.48, 0.462, 0.461, 0.468, 0.443, 0.448, 0.44, 0.432, 0.44, 0.418, 0.412, 0.395, 0.397, 0.396, 0.403154], \"type\": \"scatter\", \"uid\": \"4ad868bd-3c9a-42ad-a1f0-6d28a47d910a\"}, {\"mode\": \"lines\", \"name\": \"\\u0e20\\u0e32\\u0e04\\u0e40\\u0e2b\\u0e19\\u0e37\\u0e2d\", \"x\": [2531, 2533, 2535, 2537, 2539, 2541, 2543, 2545, 2547, 2549, 2550, 2552, 2554, 2556, 2558, 2560], \"y\": [0.439, 0.468, 0.476, 0.468, 0.458, 0.462, 0.47, 0.47, 0.482, 0.488, 0.474, 0.452, 0.441, 0.433, 0.388, 0.416927], \"type\": \"scatter\", \"uid\": \"6b400c8b-226f-43ba-b84c-0b262fc17e9f\"}, {\"mode\": \"lines\", \"name\": \"\\u0e20\\u0e32\\u0e04\\u0e15\\u0e30\\u0e27\\u0e31\\u0e19\\u0e2d\\u0e2d\\u0e01\\u0e40\\u0e09\\u0e35\\u0e22\\u0e07\\u0e40\\u0e2b\\u0e19\\u0e37\\u0e2d\", \"x\": [2531, 2533, 2535, 2537, 2539, 2541, 2543, 2545, 2547, 2549, 2550, 2552, 2554, 2556, 2558, 2560], \"y\": [0.454, 0.434, 0.471, 0.472, 0.47, 0.46, 0.484, 0.471, 0.454, 0.508, 0.483, 0.486, 0.464, 0.442, 0.432, 0.446455], \"type\": \"scatter\", \"uid\": \"cd96247a-dadd-411c-b027-f2bcd060b230\"}, {\"mode\": \"lines\", \"name\": \"\\u0e20\\u0e32\\u0e04\\u0e43\\u0e15\\u0e49\", \"x\": [2531, 2533, 2535, 2537, 2539, 2541, 2543, 2545, 2547, 2549, 2550, 2552, 2554, 2556, 2558, 2560], \"y\": [0.463, 0.469, 0.481, 0.498, 0.47, 0.491, 0.476, 0.464, 0.447, 0.477, 0.464, 0.478, 0.462, 0.443, 0.451, 0.445299], \"type\": \"scatter\", \"uid\": \"b288a903-92a2-4fd0-9165-700d2cdb8c66\"}], {\"title\": {\"text\": \"\\u0e41\\u0e2a\\u0e14\\u0e07\\u0e27\\u0e48\\u0e32\\u0e04\\u0e27\\u0e32\\u0e21\\u0e44\\u0e21\\u0e48\\u0e40\\u0e17\\u0e48\\u0e32\\u0e40\\u0e17\\u0e35\\u0e22\\u0e21\\u0e01\\u0e31\\u0e19\\u0e02\\u0e2d\\u0e07\\u0e23\\u0e32\\u0e22\\u0e44\\u0e14\\u0e49 (\\u0e20\\u0e32\\u0e04/\\u0e1b\\u0e35)\"}, \"xaxis\": {\"title\": {\"text\": \"Years\"}}, \"yaxis\": {\"title\": {\"text\": \"Gini ratio\"}}}, {\"showLink\": false, \"linkText\": \"Export to plot.ly\", \"plotlyServerURL\": \"https://plot.ly\"}); \n",
       "}\n",
       "});</script><script type=\"text/javascript\">window.addEventListener(\"resize\", function(){if (document.getElementById(\"2265264d-55c1-48e3-8b8c-fe57bd999537\")) {window._Plotly.Plots.resize(document.getElementById(\"2265264d-55c1-48e3-8b8c-fe57bd999537\"));};})</script>"
      ],
      "text/vnd.plotly.v1+html": [
       "<div id=\"2265264d-55c1-48e3-8b8c-fe57bd999537\" style=\"height: 525px; width: 100%;\" class=\"plotly-graph-div\"></div><script type=\"text/javascript\">require([\"plotly\"], function(Plotly) { window.PLOTLYENV=window.PLOTLYENV || {};window.PLOTLYENV.BASE_URL=\"https://plot.ly\";\n",
       "if (document.getElementById(\"2265264d-55c1-48e3-8b8c-fe57bd999537\")) {\n",
       "    Plotly.newPlot(\"2265264d-55c1-48e3-8b8c-fe57bd999537\", [{\"mode\": \"lines\", \"name\": \"\\u0e20\\u0e32\\u0e04\\u0e01\\u0e25\\u0e32\\u0e07\", \"x\": [2531, 2533, 2535, 2537, 2539, 2541, 2543, 2545, 2547, 2549, 2550, 2552, 2554, 2556, 2558, 2560], \"y\": [0.435, 0.48, 0.462, 0.461, 0.468, 0.443, 0.448, 0.44, 0.432, 0.44, 0.418, 0.412, 0.395, 0.397, 0.396, 0.403154], \"type\": \"scatter\", \"uid\": \"4ad868bd-3c9a-42ad-a1f0-6d28a47d910a\"}, {\"mode\": \"lines\", \"name\": \"\\u0e20\\u0e32\\u0e04\\u0e40\\u0e2b\\u0e19\\u0e37\\u0e2d\", \"x\": [2531, 2533, 2535, 2537, 2539, 2541, 2543, 2545, 2547, 2549, 2550, 2552, 2554, 2556, 2558, 2560], \"y\": [0.439, 0.468, 0.476, 0.468, 0.458, 0.462, 0.47, 0.47, 0.482, 0.488, 0.474, 0.452, 0.441, 0.433, 0.388, 0.416927], \"type\": \"scatter\", \"uid\": \"6b400c8b-226f-43ba-b84c-0b262fc17e9f\"}, {\"mode\": \"lines\", \"name\": \"\\u0e20\\u0e32\\u0e04\\u0e15\\u0e30\\u0e27\\u0e31\\u0e19\\u0e2d\\u0e2d\\u0e01\\u0e40\\u0e09\\u0e35\\u0e22\\u0e07\\u0e40\\u0e2b\\u0e19\\u0e37\\u0e2d\", \"x\": [2531, 2533, 2535, 2537, 2539, 2541, 2543, 2545, 2547, 2549, 2550, 2552, 2554, 2556, 2558, 2560], \"y\": [0.454, 0.434, 0.471, 0.472, 0.47, 0.46, 0.484, 0.471, 0.454, 0.508, 0.483, 0.486, 0.464, 0.442, 0.432, 0.446455], \"type\": \"scatter\", \"uid\": \"cd96247a-dadd-411c-b027-f2bcd060b230\"}, {\"mode\": \"lines\", \"name\": \"\\u0e20\\u0e32\\u0e04\\u0e43\\u0e15\\u0e49\", \"x\": [2531, 2533, 2535, 2537, 2539, 2541, 2543, 2545, 2547, 2549, 2550, 2552, 2554, 2556, 2558, 2560], \"y\": [0.463, 0.469, 0.481, 0.498, 0.47, 0.491, 0.476, 0.464, 0.447, 0.477, 0.464, 0.478, 0.462, 0.443, 0.451, 0.445299], \"type\": \"scatter\", \"uid\": \"b288a903-92a2-4fd0-9165-700d2cdb8c66\"}], {\"title\": {\"text\": \"\\u0e41\\u0e2a\\u0e14\\u0e07\\u0e27\\u0e48\\u0e32\\u0e04\\u0e27\\u0e32\\u0e21\\u0e44\\u0e21\\u0e48\\u0e40\\u0e17\\u0e48\\u0e32\\u0e40\\u0e17\\u0e35\\u0e22\\u0e21\\u0e01\\u0e31\\u0e19\\u0e02\\u0e2d\\u0e07\\u0e23\\u0e32\\u0e22\\u0e44\\u0e14\\u0e49 (\\u0e20\\u0e32\\u0e04/\\u0e1b\\u0e35)\"}, \"xaxis\": {\"title\": {\"text\": \"Years\"}}, \"yaxis\": {\"title\": {\"text\": \"Gini ratio\"}}}, {\"showLink\": false, \"linkText\": \"Export to plot.ly\", \"plotlyServerURL\": \"https://plot.ly\"}); \n",
       "}\n",
       "});</script><script type=\"text/javascript\">window.addEventListener(\"resize\", function(){if (document.getElementById(\"2265264d-55c1-48e3-8b8c-fe57bd999537\")) {window._Plotly.Plots.resize(document.getElementById(\"2265264d-55c1-48e3-8b8c-fe57bd999537\"));};})</script>"
      ]
     },
     "metadata": {},
     "output_type": "display_data"
    }
   ],
   "source": [
    "# Create a trace\n",
    "trace1 = go.Scatter(\n",
    "    x = df_gini_income['ปี'],\n",
    "    y = df_gini_income['ภาคกลาง'],\n",
    "    mode = \"lines\",\n",
    "    #marker = dict(color = 'rgba(255, 99, 71, 0.5)'),\n",
    "    name = \"ภาคกลาง\",\n",
    "    #text = \"\"\n",
    ")\n",
    "\n",
    "trace2 = go.Scatter(\n",
    "    x = df_gini_income['ปี'],\n",
    "    y = df_gini_income['ภาคเหนือ'],\n",
    "    mode = \"lines\",\n",
    "    #marker = dict(color = 'rgba(80, 26, 80, 0.8)'),\n",
    "    name = \"ภาคเหนือ\",\n",
    "    #text = \"\"\n",
    ")\n",
    "\n",
    "trace3 = go.Scatter(\n",
    "    x = df_gini_income['ปี'],\n",
    "    y = df_gini_income['ภาคตะวันออกเฉียงเหนือ'],\n",
    "    mode = \"lines\",\n",
    "    #marker = dict(color = 'rgba(255, 99, 71, 0.5)'),\n",
    "    name = \"ภาคตะวันออกเฉียงเหนือ\",\n",
    "    #text = \"\"\n",
    ")\n",
    "\n",
    "trace4 = go.Scatter(\n",
    "    x = df_gini_income['ปี'],\n",
    "    y = df_gini_income['ภาคใต้'],\n",
    "    mode = \"lines\",\n",
    "    #marker = dict(color = 'rgba(80, 26, 80, 0.8)'),\n",
    "    name = \"ภาคใต้\",\n",
    "    #text = \"\"\n",
    ")\n",
    "\n",
    "# Create Layout\n",
    "layout = go.Layout(\n",
    "    title =\"แสดงว่าความไม่เท่าเทียมกันของรายได้ (ภาค/ปี)\",\n",
    "    xaxis = dict(title= 'Years'),\n",
    "    yaxis = dict(title= 'Gini ratio'),\n",
    ")\n",
    "# Plot\n",
    "\n",
    "fig = go.Figure(data=[trace1, trace2, trace3, trace4], layout=layout)\n",
    "py.offline.iplot(fig)"
   ]
  },
  {
   "cell_type": "markdown",
   "metadata": {},
   "source": [
    "### แสดงว่าความไม่เท่าเทียมกันของรายได้ในเขตเมืองและชนบท"
   ]
  },
  {
   "cell_type": "code",
   "execution_count": 21,
   "metadata": {},
   "outputs": [
    {
     "data": {
      "application/vnd.plotly.v1+json": {
       "config": {
        "linkText": "Export to plot.ly",
        "plotlyServerURL": "https://plot.ly",
        "showLink": false
       },
       "data": [
        {
         "marker": {
          "color": "rgba(255, 99, 71, 0.5)"
         },
         "mode": "lines",
         "name": "เขตเมือง",
         "type": "scatter",
         "uid": "24eb90a5-8401-47db-b63f-f0fc14dc2757",
         "x": [
          2531,
          2533,
          2535,
          2537,
          2539,
          2541,
          2543,
          2545,
          2547,
          2549,
          2550,
          2552,
          2554,
          2556,
          2558,
          2560
         ],
         "y": [
          0.434,
          0.478,
          0.494,
          0.473,
          0.479,
          0.465,
          0.471,
          0.472,
          0.459,
          0.479,
          0.471,
          0.474,
          0.485,
          0.452,
          0.434,
          0.440964
         ]
        },
        {
         "marker": {
          "color": "rgba(80, 26, 80, 0.8)"
         },
         "mode": "lines",
         "name": "เขตชนบท",
         "type": "scatter",
         "uid": "4285982b-de55-4f48-8b02-f0e979c9851e",
         "x": [
          2531,
          2533,
          2535,
          2537,
          2539,
          2541,
          2543,
          2545,
          2547,
          2549,
          2550,
          2552,
          2554,
          2556,
          2558,
          2560
         ],
         "y": [
          0.439,
          0.447,
          0.439,
          0.457,
          0.44,
          0.45,
          0.468,
          0.447,
          0.445,
          0.478,
          0.456,
          0.442,
          0.426,
          0.445,
          0.412,
          0.425604
         ]
        }
       ],
       "layout": {
        "title": {
         "text": "แสดงว่าความไม่เท่าเทียมกันของรายได้ในเขตเมืองและชนบท"
        },
        "xaxis": {
         "title": {
          "text": "Years"
         }
        },
        "yaxis": {
         "title": {
          "text": "Gini ratio"
         }
        }
       }
      },
      "text/html": [
       "<div id=\"e4dc0b52-ee2f-4522-afdf-6458ab9e95e0\" style=\"height: 525px; width: 100%;\" class=\"plotly-graph-div\"></div><script type=\"text/javascript\">require([\"plotly\"], function(Plotly) { window.PLOTLYENV=window.PLOTLYENV || {};window.PLOTLYENV.BASE_URL=\"https://plot.ly\";\n",
       "if (document.getElementById(\"e4dc0b52-ee2f-4522-afdf-6458ab9e95e0\")) {\n",
       "    Plotly.newPlot(\"e4dc0b52-ee2f-4522-afdf-6458ab9e95e0\", [{\"marker\": {\"color\": \"rgba(255, 99, 71, 0.5)\"}, \"mode\": \"lines\", \"name\": \"\\u0e40\\u0e02\\u0e15\\u0e40\\u0e21\\u0e37\\u0e2d\\u0e07\", \"x\": [2531, 2533, 2535, 2537, 2539, 2541, 2543, 2545, 2547, 2549, 2550, 2552, 2554, 2556, 2558, 2560], \"y\": [0.434, 0.478, 0.494, 0.473, 0.479, 0.465, 0.471, 0.472, 0.459, 0.479, 0.471, 0.474, 0.485, 0.452, 0.434, 0.440964], \"type\": \"scatter\", \"uid\": \"24eb90a5-8401-47db-b63f-f0fc14dc2757\"}, {\"marker\": {\"color\": \"rgba(80, 26, 80, 0.8)\"}, \"mode\": \"lines\", \"name\": \"\\u0e40\\u0e02\\u0e15\\u0e0a\\u0e19\\u0e1a\\u0e17\", \"x\": [2531, 2533, 2535, 2537, 2539, 2541, 2543, 2545, 2547, 2549, 2550, 2552, 2554, 2556, 2558, 2560], \"y\": [0.439, 0.447, 0.439, 0.457, 0.44, 0.45, 0.468, 0.447, 0.445, 0.478, 0.456, 0.442, 0.426, 0.445, 0.412, 0.425604], \"type\": \"scatter\", \"uid\": \"4285982b-de55-4f48-8b02-f0e979c9851e\"}], {\"title\": {\"text\": \"\\u0e41\\u0e2a\\u0e14\\u0e07\\u0e27\\u0e48\\u0e32\\u0e04\\u0e27\\u0e32\\u0e21\\u0e44\\u0e21\\u0e48\\u0e40\\u0e17\\u0e48\\u0e32\\u0e40\\u0e17\\u0e35\\u0e22\\u0e21\\u0e01\\u0e31\\u0e19\\u0e02\\u0e2d\\u0e07\\u0e23\\u0e32\\u0e22\\u0e44\\u0e14\\u0e49\\u0e43\\u0e19\\u0e40\\u0e02\\u0e15\\u0e40\\u0e21\\u0e37\\u0e2d\\u0e07\\u0e41\\u0e25\\u0e30\\u0e0a\\u0e19\\u0e1a\\u0e17\"}, \"xaxis\": {\"title\": {\"text\": \"Years\"}}, \"yaxis\": {\"title\": {\"text\": \"Gini ratio\"}}}, {\"showLink\": false, \"linkText\": \"Export to plot.ly\", \"plotlyServerURL\": \"https://plot.ly\"}); \n",
       "}\n",
       "});</script><script type=\"text/javascript\">window.addEventListener(\"resize\", function(){if (document.getElementById(\"e4dc0b52-ee2f-4522-afdf-6458ab9e95e0\")) {window._Plotly.Plots.resize(document.getElementById(\"e4dc0b52-ee2f-4522-afdf-6458ab9e95e0\"));};})</script>"
      ],
      "text/vnd.plotly.v1+html": [
       "<div id=\"e4dc0b52-ee2f-4522-afdf-6458ab9e95e0\" style=\"height: 525px; width: 100%;\" class=\"plotly-graph-div\"></div><script type=\"text/javascript\">require([\"plotly\"], function(Plotly) { window.PLOTLYENV=window.PLOTLYENV || {};window.PLOTLYENV.BASE_URL=\"https://plot.ly\";\n",
       "if (document.getElementById(\"e4dc0b52-ee2f-4522-afdf-6458ab9e95e0\")) {\n",
       "    Plotly.newPlot(\"e4dc0b52-ee2f-4522-afdf-6458ab9e95e0\", [{\"marker\": {\"color\": \"rgba(255, 99, 71, 0.5)\"}, \"mode\": \"lines\", \"name\": \"\\u0e40\\u0e02\\u0e15\\u0e40\\u0e21\\u0e37\\u0e2d\\u0e07\", \"x\": [2531, 2533, 2535, 2537, 2539, 2541, 2543, 2545, 2547, 2549, 2550, 2552, 2554, 2556, 2558, 2560], \"y\": [0.434, 0.478, 0.494, 0.473, 0.479, 0.465, 0.471, 0.472, 0.459, 0.479, 0.471, 0.474, 0.485, 0.452, 0.434, 0.440964], \"type\": \"scatter\", \"uid\": \"24eb90a5-8401-47db-b63f-f0fc14dc2757\"}, {\"marker\": {\"color\": \"rgba(80, 26, 80, 0.8)\"}, \"mode\": \"lines\", \"name\": \"\\u0e40\\u0e02\\u0e15\\u0e0a\\u0e19\\u0e1a\\u0e17\", \"x\": [2531, 2533, 2535, 2537, 2539, 2541, 2543, 2545, 2547, 2549, 2550, 2552, 2554, 2556, 2558, 2560], \"y\": [0.439, 0.447, 0.439, 0.457, 0.44, 0.45, 0.468, 0.447, 0.445, 0.478, 0.456, 0.442, 0.426, 0.445, 0.412, 0.425604], \"type\": \"scatter\", \"uid\": \"4285982b-de55-4f48-8b02-f0e979c9851e\"}], {\"title\": {\"text\": \"\\u0e41\\u0e2a\\u0e14\\u0e07\\u0e27\\u0e48\\u0e32\\u0e04\\u0e27\\u0e32\\u0e21\\u0e44\\u0e21\\u0e48\\u0e40\\u0e17\\u0e48\\u0e32\\u0e40\\u0e17\\u0e35\\u0e22\\u0e21\\u0e01\\u0e31\\u0e19\\u0e02\\u0e2d\\u0e07\\u0e23\\u0e32\\u0e22\\u0e44\\u0e14\\u0e49\\u0e43\\u0e19\\u0e40\\u0e02\\u0e15\\u0e40\\u0e21\\u0e37\\u0e2d\\u0e07\\u0e41\\u0e25\\u0e30\\u0e0a\\u0e19\\u0e1a\\u0e17\"}, \"xaxis\": {\"title\": {\"text\": \"Years\"}}, \"yaxis\": {\"title\": {\"text\": \"Gini ratio\"}}}, {\"showLink\": false, \"linkText\": \"Export to plot.ly\", \"plotlyServerURL\": \"https://plot.ly\"}); \n",
       "}\n",
       "});</script><script type=\"text/javascript\">window.addEventListener(\"resize\", function(){if (document.getElementById(\"e4dc0b52-ee2f-4522-afdf-6458ab9e95e0\")) {window._Plotly.Plots.resize(document.getElementById(\"e4dc0b52-ee2f-4522-afdf-6458ab9e95e0\"));};})</script>"
      ]
     },
     "metadata": {},
     "output_type": "display_data"
    }
   ],
   "source": [
    "# Create a trace\n",
    "trace1 = go.Scatter(\n",
    "    x = df_gini_income['ปี'],\n",
    "    y = df_gini_income['เขตเมือง'],\n",
    "    mode = \"lines\",\n",
    "    marker = dict(color = 'rgba(255, 99, 71, 0.5)'),\n",
    "    name = \"เขตเมือง\",\n",
    "    #text = \"\"\n",
    ")\n",
    "\n",
    "trace2 = go.Scatter(\n",
    "    x = df_gini_income['ปี'],\n",
    "    y = df_gini_income['เขตชนบท'],\n",
    "    mode = \"lines\",\n",
    "    marker = dict(color = 'rgba(80, 26, 80, 0.8)'),\n",
    "    name = \"เขตชนบท\",\n",
    "    #text = \"\"\n",
    ")\n",
    "\n",
    "# Create Layout\n",
    "layout = go.Layout(\n",
    "    title =\"แสดงว่าความไม่เท่าเทียมกันของรายได้ในเขตเมืองและชนบท\",\n",
    "    xaxis = dict(title= 'Years'),\n",
    "    yaxis = dict(title= 'Gini ratio'),\n",
    ")\n",
    "\n",
    "# Plot\n",
    "fig = go.Figure(data=[trace1, trace2], layout=layout)\n",
    "py.offline.iplot(fig)\n",
    "\n",
    "# py.offline.plot({\n",
    "# \"data\": [\n",
    "#     trace1, trace2\n",
    "# ],\n",
    "# \"layout\": Layout(\n",
    "#     title=\"แสดงว่าความไม่เท่าเทียมกันของรายได้ในเขตเมืองและชนบท\",\n",
    "#     xaxis= dict(title= 'Years'),\n",
    "#     yaxis= dict(title= 'Gini ratio')\n",
    "#     #xaxis= dict(title= 'Years', ticklen= 5, zeroline= False),\n",
    "#     #yaxis= dict(title= 'Gini ratio', ticklen= 5, zeroline= False)\n",
    "# )\n",
    "# })\n",
    "\n",
    "# # plotly.offline.plot(data, layout, filename='basic histogram.html')\n",
    "\n",
    "# # Show graph\n",
    "# iframe = '<iframe width= \"1000\" height= \"500\" frameborder= \"0\" scrolling=\"no\" src=\"temp-plot.html\"></iframe>'\n",
    "# IPython.display.HTML(iframe)"
   ]
  },
  {
   "cell_type": "markdown",
   "metadata": {},
   "source": [
    "### แสดงว่าความไม่เท่าเทียมกันของรายได้ทั่วประเทศ"
   ]
  },
  {
   "cell_type": "code",
   "execution_count": 22,
   "metadata": {
    "scrolled": false
   },
   "outputs": [
    {
     "data": {
      "application/vnd.plotly.v1+json": {
       "config": {
        "linkText": "Export to plot.ly",
        "plotlyServerURL": "https://plot.ly",
        "showLink": false
       },
       "data": [
        {
         "mode": "lines",
         "name": "รายได้",
         "type": "scatter",
         "uid": "292b91d6-b335-404c-880a-1b61a035dd20",
         "x": [
          2531,
          2533,
          2535,
          2537,
          2539,
          2541,
          2543,
          2545,
          2547,
          2549,
          2550,
          2552,
          2554,
          2556,
          2558,
          2560
         ],
         "y": [
          0.487,
          0.515,
          0.536,
          0.52,
          0.513,
          0.507,
          0.522,
          0.508,
          0.493,
          0.514,
          0.499,
          0.49,
          0.484,
          0.465,
          0.445,
          0.452758
         ]
        },
        {
         "mode": "lines",
         "name": "รายจ่าย",
         "type": "scatter",
         "uid": "11216ec8-44d1-4e43-bb9b-e40737d5cc36",
         "x": [
          2531,
          2533,
          2535,
          2537,
          2539,
          2541,
          2543,
          2545,
          2547,
          2549,
          2550,
          2551,
          2552,
          2553,
          2554,
          2555,
          2556,
          2557,
          2558,
          2559,
          2560
         ],
         "y": [
          0.439,
          0.443,
          0.45,
          0.438,
          0.431,
          0.409,
          0.428,
          0.419,
          0.425,
          0.42,
          0.398,
          0.405,
          0.398,
          0.396,
          0.375,
          0.393,
          0.378,
          0.371,
          0.359,
          0.3673,
          0.363972
         ]
        }
       ],
       "layout": {
        "title": {
         "text": "GINI ratio รายได้และรายจ่ายรวมทั้งประเทศ"
        },
        "xaxis": {
         "title": {
          "text": "Years"
         }
        },
        "yaxis": {
         "title": {
          "text": "Gini ratio"
         }
        }
       }
      },
      "text/html": [
       "<div id=\"bbe3c01f-c184-43a4-a5db-ef3181e7f793\" style=\"height: 525px; width: 100%;\" class=\"plotly-graph-div\"></div><script type=\"text/javascript\">require([\"plotly\"], function(Plotly) { window.PLOTLYENV=window.PLOTLYENV || {};window.PLOTLYENV.BASE_URL=\"https://plot.ly\";\n",
       "if (document.getElementById(\"bbe3c01f-c184-43a4-a5db-ef3181e7f793\")) {\n",
       "    Plotly.newPlot(\"bbe3c01f-c184-43a4-a5db-ef3181e7f793\", [{\"mode\": \"lines\", \"name\": \"\\u0e23\\u0e32\\u0e22\\u0e44\\u0e14\\u0e49\", \"x\": [2531, 2533, 2535, 2537, 2539, 2541, 2543, 2545, 2547, 2549, 2550, 2552, 2554, 2556, 2558, 2560], \"y\": [0.487, 0.515, 0.536, 0.52, 0.513, 0.507, 0.522, 0.508, 0.493, 0.514, 0.499, 0.49, 0.484, 0.465, 0.445, 0.452758], \"type\": \"scatter\", \"uid\": \"292b91d6-b335-404c-880a-1b61a035dd20\"}, {\"mode\": \"lines\", \"name\": \"\\u0e23\\u0e32\\u0e22\\u0e08\\u0e48\\u0e32\\u0e22\", \"x\": [2531, 2533, 2535, 2537, 2539, 2541, 2543, 2545, 2547, 2549, 2550, 2551, 2552, 2553, 2554, 2555, 2556, 2557, 2558, 2559, 2560], \"y\": [0.439, 0.443, 0.45, 0.438, 0.431, 0.409, 0.428, 0.419, 0.425, 0.42, 0.398, 0.405, 0.398, 0.396, 0.375, 0.393, 0.378, 0.371, 0.359, 0.3673, 0.363972], \"type\": \"scatter\", \"uid\": \"11216ec8-44d1-4e43-bb9b-e40737d5cc36\"}], {\"title\": {\"text\": \"GINI ratio \\u0e23\\u0e32\\u0e22\\u0e44\\u0e14\\u0e49\\u0e41\\u0e25\\u0e30\\u0e23\\u0e32\\u0e22\\u0e08\\u0e48\\u0e32\\u0e22\\u0e23\\u0e27\\u0e21\\u0e17\\u0e31\\u0e49\\u0e07\\u0e1b\\u0e23\\u0e30\\u0e40\\u0e17\\u0e28\"}, \"xaxis\": {\"title\": {\"text\": \"Years\"}}, \"yaxis\": {\"title\": {\"text\": \"Gini ratio\"}}}, {\"showLink\": false, \"linkText\": \"Export to plot.ly\", \"plotlyServerURL\": \"https://plot.ly\"}); \n",
       "}\n",
       "});</script><script type=\"text/javascript\">window.addEventListener(\"resize\", function(){if (document.getElementById(\"bbe3c01f-c184-43a4-a5db-ef3181e7f793\")) {window._Plotly.Plots.resize(document.getElementById(\"bbe3c01f-c184-43a4-a5db-ef3181e7f793\"));};})</script>"
      ],
      "text/vnd.plotly.v1+html": [
       "<div id=\"bbe3c01f-c184-43a4-a5db-ef3181e7f793\" style=\"height: 525px; width: 100%;\" class=\"plotly-graph-div\"></div><script type=\"text/javascript\">require([\"plotly\"], function(Plotly) { window.PLOTLYENV=window.PLOTLYENV || {};window.PLOTLYENV.BASE_URL=\"https://plot.ly\";\n",
       "if (document.getElementById(\"bbe3c01f-c184-43a4-a5db-ef3181e7f793\")) {\n",
       "    Plotly.newPlot(\"bbe3c01f-c184-43a4-a5db-ef3181e7f793\", [{\"mode\": \"lines\", \"name\": \"\\u0e23\\u0e32\\u0e22\\u0e44\\u0e14\\u0e49\", \"x\": [2531, 2533, 2535, 2537, 2539, 2541, 2543, 2545, 2547, 2549, 2550, 2552, 2554, 2556, 2558, 2560], \"y\": [0.487, 0.515, 0.536, 0.52, 0.513, 0.507, 0.522, 0.508, 0.493, 0.514, 0.499, 0.49, 0.484, 0.465, 0.445, 0.452758], \"type\": \"scatter\", \"uid\": \"292b91d6-b335-404c-880a-1b61a035dd20\"}, {\"mode\": \"lines\", \"name\": \"\\u0e23\\u0e32\\u0e22\\u0e08\\u0e48\\u0e32\\u0e22\", \"x\": [2531, 2533, 2535, 2537, 2539, 2541, 2543, 2545, 2547, 2549, 2550, 2551, 2552, 2553, 2554, 2555, 2556, 2557, 2558, 2559, 2560], \"y\": [0.439, 0.443, 0.45, 0.438, 0.431, 0.409, 0.428, 0.419, 0.425, 0.42, 0.398, 0.405, 0.398, 0.396, 0.375, 0.393, 0.378, 0.371, 0.359, 0.3673, 0.363972], \"type\": \"scatter\", \"uid\": \"11216ec8-44d1-4e43-bb9b-e40737d5cc36\"}], {\"title\": {\"text\": \"GINI ratio \\u0e23\\u0e32\\u0e22\\u0e44\\u0e14\\u0e49\\u0e41\\u0e25\\u0e30\\u0e23\\u0e32\\u0e22\\u0e08\\u0e48\\u0e32\\u0e22\\u0e23\\u0e27\\u0e21\\u0e17\\u0e31\\u0e49\\u0e07\\u0e1b\\u0e23\\u0e30\\u0e40\\u0e17\\u0e28\"}, \"xaxis\": {\"title\": {\"text\": \"Years\"}}, \"yaxis\": {\"title\": {\"text\": \"Gini ratio\"}}}, {\"showLink\": false, \"linkText\": \"Export to plot.ly\", \"plotlyServerURL\": \"https://plot.ly\"}); \n",
       "}\n",
       "});</script><script type=\"text/javascript\">window.addEventListener(\"resize\", function(){if (document.getElementById(\"bbe3c01f-c184-43a4-a5db-ef3181e7f793\")) {window._Plotly.Plots.resize(document.getElementById(\"bbe3c01f-c184-43a4-a5db-ef3181e7f793\"));};})</script>"
      ]
     },
     "metadata": {},
     "output_type": "display_data"
    }
   ],
   "source": [
    "# Create a trace\n",
    "# รายได้\n",
    "trace1 = go.Scatter(\n",
    "    x = df_gini_income['ปี'],\n",
    "    y = df_gini_income['ทั่วราชอาณาจักร'],\n",
    "    mode = \"lines\",\n",
    "    name = \"รายได้\"\n",
    "    #marker = dict(color = 'rgba(255, 99, 71, 0.5)'),\n",
    ")\n",
    "# รายจ่าย\n",
    "trace2 = go.Scatter(\n",
    "    x = df_gini_expenditure['ปี'],\n",
    "    y = df_gini_expenditure['ทั่วราชอาณาจักร'],\n",
    "    mode = \"lines\",\n",
    "    name = \"รายจ่าย\"\n",
    "    #marker = dict(color = 'rgba(255, 99, 71, 0.5)'),\n",
    ")\n",
    "\n",
    "# Create Layout\n",
    "layout = go.Layout(\n",
    "    title =\"GINI ratio รายได้และรายจ่ายรวมทั้งประเทศ\",\n",
    "    xaxis = dict(title= 'Years'),\n",
    "    yaxis = dict(title= 'Gini ratio'),\n",
    ")\n",
    "\n",
    "# Plot\n",
    "fig = go.Figure(data=[trace1, trace2], layout=layout)\n",
    "py.offline.iplot(fig)"
   ]
  },
  {
   "cell_type": "code",
   "execution_count": 23,
   "metadata": {},
   "outputs": [],
   "source": [
    "# ยิ่งค่าเข้าใกล้ 1 มากเท่าไร แสดงว่าความไม่เท่าเทียมกันของรายจ่ายเพื่อการอุปโภคบริโภคมีมากขึ้น และ \n",
    "# แสดงว่าความไม่เท่าเทียมกันของรายได้ยิ่งมีมากขึ้น"
   ]
  },
  {
   "cell_type": "markdown",
   "metadata": {},
   "source": [
    "### ความไม่เท่าเทียมกันของรายจ่ายเพื่อการอุปโภคบริโภคในเมืองและชนบท"
   ]
  },
  {
   "cell_type": "code",
   "execution_count": 24,
   "metadata": {},
   "outputs": [
    {
     "data": {
      "application/vnd.plotly.v1+json": {
       "config": {
        "linkText": "Export to plot.ly",
        "plotlyServerURL": "https://plot.ly",
        "showLink": false
       },
       "data": [
        {
         "marker": {
          "color": "rgba(255, 99, 71, 0.5)"
         },
         "mode": "lines",
         "name": "เขตเมือง",
         "type": "scatter",
         "uid": "b233aae4-28d5-4f05-af38-f8b411b4e0f3",
         "x": [
          2531,
          2533,
          2535,
          2537,
          2539,
          2541,
          2543,
          2545,
          2547,
          2549,
          2550,
          2551,
          2552,
          2553,
          2554,
          2555,
          2556,
          2557,
          2558,
          2559,
          2560
         ],
         "y": [
          0.406,
          0.417,
          0.423,
          0.409,
          0.41,
          0.378,
          0.395,
          0.393,
          0.393,
          0.39,
          0.372,
          0.381,
          0.373,
          0.376,
          0.369,
          0.38,
          0.364,
          0.36,
          0.353,
          0.3614,
          0.359082
         ]
        },
        {
         "marker": {
          "color": "rgba(80, 26, 80, 0.8)"
         },
         "mode": "lines",
         "name": "เขตชนบท",
         "type": "scatter",
         "uid": "6c70813d-2fee-4b32-afdb-e5f35d0bbf98",
         "x": [
          2531,
          2533,
          2535,
          2537,
          2539,
          2541,
          2543,
          2545,
          2547,
          2549,
          2550,
          2551,
          2552,
          2553,
          2554,
          2555,
          2556,
          2557,
          2558,
          2559,
          2560
         ],
         "y": [
          0.379,
          0.386,
          0.364,
          0.381,
          0.359,
          0.349,
          0.359,
          0.353,
          0.382,
          0.384,
          0.36,
          0.356,
          0.357,
          0.355,
          0.334,
          0.362,
          0.353,
          0.337,
          0.326,
          0.329,
          0.326425
         ]
        }
       ],
       "layout": {
        "title": {
         "text": "ความไม่เท่าเทียมกันของรายจ่ายเพื่อการอุปโภคบริโภคในเมืองและชนบท"
        },
        "xaxis": {
         "title": {
          "text": "Years"
         }
        },
        "yaxis": {
         "title": {
          "text": "Gini ratio"
         }
        }
       }
      },
      "text/html": [
       "<div id=\"3950ba5f-4c84-4c78-a282-290495d8387d\" style=\"height: 525px; width: 100%;\" class=\"plotly-graph-div\"></div><script type=\"text/javascript\">require([\"plotly\"], function(Plotly) { window.PLOTLYENV=window.PLOTLYENV || {};window.PLOTLYENV.BASE_URL=\"https://plot.ly\";\n",
       "if (document.getElementById(\"3950ba5f-4c84-4c78-a282-290495d8387d\")) {\n",
       "    Plotly.newPlot(\"3950ba5f-4c84-4c78-a282-290495d8387d\", [{\"marker\": {\"color\": \"rgba(255, 99, 71, 0.5)\"}, \"mode\": \"lines\", \"name\": \"\\u0e40\\u0e02\\u0e15\\u0e40\\u0e21\\u0e37\\u0e2d\\u0e07\", \"x\": [2531, 2533, 2535, 2537, 2539, 2541, 2543, 2545, 2547, 2549, 2550, 2551, 2552, 2553, 2554, 2555, 2556, 2557, 2558, 2559, 2560], \"y\": [0.406, 0.417, 0.423, 0.409, 0.41, 0.378, 0.395, 0.393, 0.393, 0.39, 0.372, 0.381, 0.373, 0.376, 0.369, 0.38, 0.364, 0.36, 0.353, 0.3614, 0.359082], \"type\": \"scatter\", \"uid\": \"b233aae4-28d5-4f05-af38-f8b411b4e0f3\"}, {\"marker\": {\"color\": \"rgba(80, 26, 80, 0.8)\"}, \"mode\": \"lines\", \"name\": \"\\u0e40\\u0e02\\u0e15\\u0e0a\\u0e19\\u0e1a\\u0e17\", \"x\": [2531, 2533, 2535, 2537, 2539, 2541, 2543, 2545, 2547, 2549, 2550, 2551, 2552, 2553, 2554, 2555, 2556, 2557, 2558, 2559, 2560], \"y\": [0.379, 0.386, 0.364, 0.381, 0.359, 0.349, 0.359, 0.353, 0.382, 0.384, 0.36, 0.356, 0.357, 0.355, 0.334, 0.362, 0.353, 0.337, 0.326, 0.329, 0.326425], \"type\": \"scatter\", \"uid\": \"6c70813d-2fee-4b32-afdb-e5f35d0bbf98\"}], {\"title\": {\"text\": \"\\u0e04\\u0e27\\u0e32\\u0e21\\u0e44\\u0e21\\u0e48\\u0e40\\u0e17\\u0e48\\u0e32\\u0e40\\u0e17\\u0e35\\u0e22\\u0e21\\u0e01\\u0e31\\u0e19\\u0e02\\u0e2d\\u0e07\\u0e23\\u0e32\\u0e22\\u0e08\\u0e48\\u0e32\\u0e22\\u0e40\\u0e1e\\u0e37\\u0e48\\u0e2d\\u0e01\\u0e32\\u0e23\\u0e2d\\u0e38\\u0e1b\\u0e42\\u0e20\\u0e04\\u0e1a\\u0e23\\u0e34\\u0e42\\u0e20\\u0e04\\u0e43\\u0e19\\u0e40\\u0e21\\u0e37\\u0e2d\\u0e07\\u0e41\\u0e25\\u0e30\\u0e0a\\u0e19\\u0e1a\\u0e17\"}, \"xaxis\": {\"title\": {\"text\": \"Years\"}}, \"yaxis\": {\"title\": {\"text\": \"Gini ratio\"}}}, {\"showLink\": false, \"linkText\": \"Export to plot.ly\", \"plotlyServerURL\": \"https://plot.ly\"}); \n",
       "}\n",
       "});</script><script type=\"text/javascript\">window.addEventListener(\"resize\", function(){if (document.getElementById(\"3950ba5f-4c84-4c78-a282-290495d8387d\")) {window._Plotly.Plots.resize(document.getElementById(\"3950ba5f-4c84-4c78-a282-290495d8387d\"));};})</script>"
      ],
      "text/vnd.plotly.v1+html": [
       "<div id=\"3950ba5f-4c84-4c78-a282-290495d8387d\" style=\"height: 525px; width: 100%;\" class=\"plotly-graph-div\"></div><script type=\"text/javascript\">require([\"plotly\"], function(Plotly) { window.PLOTLYENV=window.PLOTLYENV || {};window.PLOTLYENV.BASE_URL=\"https://plot.ly\";\n",
       "if (document.getElementById(\"3950ba5f-4c84-4c78-a282-290495d8387d\")) {\n",
       "    Plotly.newPlot(\"3950ba5f-4c84-4c78-a282-290495d8387d\", [{\"marker\": {\"color\": \"rgba(255, 99, 71, 0.5)\"}, \"mode\": \"lines\", \"name\": \"\\u0e40\\u0e02\\u0e15\\u0e40\\u0e21\\u0e37\\u0e2d\\u0e07\", \"x\": [2531, 2533, 2535, 2537, 2539, 2541, 2543, 2545, 2547, 2549, 2550, 2551, 2552, 2553, 2554, 2555, 2556, 2557, 2558, 2559, 2560], \"y\": [0.406, 0.417, 0.423, 0.409, 0.41, 0.378, 0.395, 0.393, 0.393, 0.39, 0.372, 0.381, 0.373, 0.376, 0.369, 0.38, 0.364, 0.36, 0.353, 0.3614, 0.359082], \"type\": \"scatter\", \"uid\": \"b233aae4-28d5-4f05-af38-f8b411b4e0f3\"}, {\"marker\": {\"color\": \"rgba(80, 26, 80, 0.8)\"}, \"mode\": \"lines\", \"name\": \"\\u0e40\\u0e02\\u0e15\\u0e0a\\u0e19\\u0e1a\\u0e17\", \"x\": [2531, 2533, 2535, 2537, 2539, 2541, 2543, 2545, 2547, 2549, 2550, 2551, 2552, 2553, 2554, 2555, 2556, 2557, 2558, 2559, 2560], \"y\": [0.379, 0.386, 0.364, 0.381, 0.359, 0.349, 0.359, 0.353, 0.382, 0.384, 0.36, 0.356, 0.357, 0.355, 0.334, 0.362, 0.353, 0.337, 0.326, 0.329, 0.326425], \"type\": \"scatter\", \"uid\": \"6c70813d-2fee-4b32-afdb-e5f35d0bbf98\"}], {\"title\": {\"text\": \"\\u0e04\\u0e27\\u0e32\\u0e21\\u0e44\\u0e21\\u0e48\\u0e40\\u0e17\\u0e48\\u0e32\\u0e40\\u0e17\\u0e35\\u0e22\\u0e21\\u0e01\\u0e31\\u0e19\\u0e02\\u0e2d\\u0e07\\u0e23\\u0e32\\u0e22\\u0e08\\u0e48\\u0e32\\u0e22\\u0e40\\u0e1e\\u0e37\\u0e48\\u0e2d\\u0e01\\u0e32\\u0e23\\u0e2d\\u0e38\\u0e1b\\u0e42\\u0e20\\u0e04\\u0e1a\\u0e23\\u0e34\\u0e42\\u0e20\\u0e04\\u0e43\\u0e19\\u0e40\\u0e21\\u0e37\\u0e2d\\u0e07\\u0e41\\u0e25\\u0e30\\u0e0a\\u0e19\\u0e1a\\u0e17\"}, \"xaxis\": {\"title\": {\"text\": \"Years\"}}, \"yaxis\": {\"title\": {\"text\": \"Gini ratio\"}}}, {\"showLink\": false, \"linkText\": \"Export to plot.ly\", \"plotlyServerURL\": \"https://plot.ly\"}); \n",
       "}\n",
       "});</script><script type=\"text/javascript\">window.addEventListener(\"resize\", function(){if (document.getElementById(\"3950ba5f-4c84-4c78-a282-290495d8387d\")) {window._Plotly.Plots.resize(document.getElementById(\"3950ba5f-4c84-4c78-a282-290495d8387d\"));};})</script>"
      ]
     },
     "metadata": {},
     "output_type": "display_data"
    }
   ],
   "source": [
    "# Create a trace\n",
    "trace1 = go.Scatter(\n",
    "    x = df_gini_expenditure['ปี'],\n",
    "    y = df_gini_expenditure['เขตเมือง'],\n",
    "    mode = \"lines\",\n",
    "    marker = dict(color = 'rgba(255, 99, 71, 0.5)'),\n",
    "    name = \"เขตเมือง\",\n",
    "    #text = \"\"\n",
    ")\n",
    "\n",
    "trace2 = go.Scatter(\n",
    "    x = df_gini_expenditure['ปี'],\n",
    "    y = df_gini_expenditure['เขตชนบท'],\n",
    "    mode = \"lines\",\n",
    "    marker = dict(color = 'rgba(80, 26, 80, 0.8)'),\n",
    "    name = \"เขตชนบท\",\n",
    "    #text = \"\"\n",
    ")\n",
    "\n",
    "# Create Layout\n",
    "layout = go.Layout(\n",
    "    title =\"ความไม่เท่าเทียมกันของรายจ่ายเพื่อการอุปโภคบริโภคในเมืองและชนบท\",\n",
    "    xaxis = dict(title= 'Years'),\n",
    "    yaxis = dict(title= 'Gini ratio'),\n",
    ")\n",
    "\n",
    "# Plot\n",
    "fig = go.Figure(data=[trace1, trace2], layout=layout)\n",
    "py.offline.iplot(fig)"
   ]
  },
  {
   "cell_type": "markdown",
   "metadata": {},
   "source": [
    "### ความไม่เท่าเทียมกันของรายจ่ายเพื่อการอุปโภคบริโภค (ภาค / ปี)"
   ]
  },
  {
   "cell_type": "code",
   "execution_count": 25,
   "metadata": {
    "scrolled": false
   },
   "outputs": [
    {
     "data": {
      "application/vnd.plotly.v1+json": {
       "config": {
        "linkText": "Export to plot.ly",
        "plotlyServerURL": "https://plot.ly",
        "showLink": false
       },
       "data": [
        {
         "mode": "lines",
         "name": "ภาคกลาง",
         "type": "scatter",
         "uid": "9bac90af-7499-49d9-8412-9b0a8bf3bc5d",
         "x": [
          2531,
          2533,
          2535,
          2537,
          2539,
          2541,
          2543,
          2545,
          2547,
          2549,
          2550,
          2551,
          2552,
          2553,
          2554,
          2555,
          2556,
          2557,
          2558,
          2559,
          2560
         ],
         "y": [
          0.377,
          0.386,
          0.372,
          0.373,
          0.36,
          0.335,
          0.366,
          0.357,
          0.363,
          0.355,
          0.34,
          0.344,
          0.347,
          0.341,
          0.325,
          0.339,
          0.332,
          0.317,
          0.31,
          0.3192,
          0.311942
         ]
        },
        {
         "mode": "lines",
         "name": "ภาคเหนือ",
         "type": "scatter",
         "uid": "6fd574ad-bb8d-409b-aed0-678e53b9218d",
         "x": [
          2531,
          2533,
          2535,
          2537,
          2539,
          2541,
          2543,
          2545,
          2547,
          2549,
          2550,
          2551,
          2552,
          2553,
          2554,
          2555,
          2556,
          2557,
          2558,
          2559,
          2560
         ],
         "y": [
          0.395,
          0.411,
          0.39,
          0.398,
          0.387,
          0.358,
          0.375,
          0.384,
          0.409,
          0.41,
          0.385,
          0.387,
          0.37,
          0.389,
          0.349,
          0.353,
          0.346,
          0.328,
          0.31,
          0.3289,
          0.332812
         ]
        }
       ],
       "layout": {
        "title": {
         "text": "GINI ratio / expenditure / Region"
        },
        "xaxis": {
         "title": {
          "text": "Years"
         }
        },
        "yaxis": {
         "title": {
          "text": "Gini ratio"
         }
        }
       }
      },
      "text/html": [
       "<div id=\"fa9d37e3-aa62-4f55-a6c8-4498ff1648e3\" style=\"height: 525px; width: 100%;\" class=\"plotly-graph-div\"></div><script type=\"text/javascript\">require([\"plotly\"], function(Plotly) { window.PLOTLYENV=window.PLOTLYENV || {};window.PLOTLYENV.BASE_URL=\"https://plot.ly\";\n",
       "if (document.getElementById(\"fa9d37e3-aa62-4f55-a6c8-4498ff1648e3\")) {\n",
       "    Plotly.newPlot(\"fa9d37e3-aa62-4f55-a6c8-4498ff1648e3\", [{\"mode\": \"lines\", \"name\": \"\\u0e20\\u0e32\\u0e04\\u0e01\\u0e25\\u0e32\\u0e07\", \"x\": [2531, 2533, 2535, 2537, 2539, 2541, 2543, 2545, 2547, 2549, 2550, 2551, 2552, 2553, 2554, 2555, 2556, 2557, 2558, 2559, 2560], \"y\": [0.377, 0.386, 0.372, 0.373, 0.36, 0.335, 0.366, 0.357, 0.363, 0.355, 0.34, 0.344, 0.347, 0.341, 0.325, 0.339, 0.332, 0.317, 0.31, 0.3192, 0.311942], \"type\": \"scatter\", \"uid\": \"9bac90af-7499-49d9-8412-9b0a8bf3bc5d\"}, {\"mode\": \"lines\", \"name\": \"\\u0e20\\u0e32\\u0e04\\u0e40\\u0e2b\\u0e19\\u0e37\\u0e2d\", \"x\": [2531, 2533, 2535, 2537, 2539, 2541, 2543, 2545, 2547, 2549, 2550, 2551, 2552, 2553, 2554, 2555, 2556, 2557, 2558, 2559, 2560], \"y\": [0.395, 0.411, 0.39, 0.398, 0.387, 0.358, 0.375, 0.384, 0.409, 0.41, 0.385, 0.387, 0.37, 0.389, 0.349, 0.353, 0.346, 0.328, 0.31, 0.3289, 0.332812], \"type\": \"scatter\", \"uid\": \"6fd574ad-bb8d-409b-aed0-678e53b9218d\"}], {\"title\": {\"text\": \"GINI ratio / expenditure / Region\"}, \"xaxis\": {\"title\": {\"text\": \"Years\"}}, \"yaxis\": {\"title\": {\"text\": \"Gini ratio\"}}}, {\"showLink\": false, \"linkText\": \"Export to plot.ly\", \"plotlyServerURL\": \"https://plot.ly\"}); \n",
       "}\n",
       "});</script><script type=\"text/javascript\">window.addEventListener(\"resize\", function(){if (document.getElementById(\"fa9d37e3-aa62-4f55-a6c8-4498ff1648e3\")) {window._Plotly.Plots.resize(document.getElementById(\"fa9d37e3-aa62-4f55-a6c8-4498ff1648e3\"));};})</script>"
      ],
      "text/vnd.plotly.v1+html": [
       "<div id=\"fa9d37e3-aa62-4f55-a6c8-4498ff1648e3\" style=\"height: 525px; width: 100%;\" class=\"plotly-graph-div\"></div><script type=\"text/javascript\">require([\"plotly\"], function(Plotly) { window.PLOTLYENV=window.PLOTLYENV || {};window.PLOTLYENV.BASE_URL=\"https://plot.ly\";\n",
       "if (document.getElementById(\"fa9d37e3-aa62-4f55-a6c8-4498ff1648e3\")) {\n",
       "    Plotly.newPlot(\"fa9d37e3-aa62-4f55-a6c8-4498ff1648e3\", [{\"mode\": \"lines\", \"name\": \"\\u0e20\\u0e32\\u0e04\\u0e01\\u0e25\\u0e32\\u0e07\", \"x\": [2531, 2533, 2535, 2537, 2539, 2541, 2543, 2545, 2547, 2549, 2550, 2551, 2552, 2553, 2554, 2555, 2556, 2557, 2558, 2559, 2560], \"y\": [0.377, 0.386, 0.372, 0.373, 0.36, 0.335, 0.366, 0.357, 0.363, 0.355, 0.34, 0.344, 0.347, 0.341, 0.325, 0.339, 0.332, 0.317, 0.31, 0.3192, 0.311942], \"type\": \"scatter\", \"uid\": \"9bac90af-7499-49d9-8412-9b0a8bf3bc5d\"}, {\"mode\": \"lines\", \"name\": \"\\u0e20\\u0e32\\u0e04\\u0e40\\u0e2b\\u0e19\\u0e37\\u0e2d\", \"x\": [2531, 2533, 2535, 2537, 2539, 2541, 2543, 2545, 2547, 2549, 2550, 2551, 2552, 2553, 2554, 2555, 2556, 2557, 2558, 2559, 2560], \"y\": [0.395, 0.411, 0.39, 0.398, 0.387, 0.358, 0.375, 0.384, 0.409, 0.41, 0.385, 0.387, 0.37, 0.389, 0.349, 0.353, 0.346, 0.328, 0.31, 0.3289, 0.332812], \"type\": \"scatter\", \"uid\": \"6fd574ad-bb8d-409b-aed0-678e53b9218d\"}], {\"title\": {\"text\": \"GINI ratio / expenditure / Region\"}, \"xaxis\": {\"title\": {\"text\": \"Years\"}}, \"yaxis\": {\"title\": {\"text\": \"Gini ratio\"}}}, {\"showLink\": false, \"linkText\": \"Export to plot.ly\", \"plotlyServerURL\": \"https://plot.ly\"}); \n",
       "}\n",
       "});</script><script type=\"text/javascript\">window.addEventListener(\"resize\", function(){if (document.getElementById(\"fa9d37e3-aa62-4f55-a6c8-4498ff1648e3\")) {window._Plotly.Plots.resize(document.getElementById(\"fa9d37e3-aa62-4f55-a6c8-4498ff1648e3\"));};})</script>"
      ]
     },
     "metadata": {},
     "output_type": "display_data"
    }
   ],
   "source": [
    "# Create a trace\n",
    "trace1 = go.Scatter(\n",
    "    x = df_gini_expenditure['ปี'],\n",
    "    y = df_gini_expenditure['ภาคกลาง'],\n",
    "    mode = \"lines\",\n",
    "    #marker = dict(color = 'rgba(255, 99, 71, 0.5)'),\n",
    "    name = \"ภาคกลาง\",\n",
    "    #text = \"\"\n",
    ")\n",
    "\n",
    "trace2 = go.Scatter(\n",
    "    x = df_gini_expenditure['ปี'],\n",
    "    y = df_gini_expenditure['ภาคเหนือ'],\n",
    "    mode = \"lines\",\n",
    "    #marker = dict(color = 'rgba(80, 26, 80, 0.8)'),\n",
    "    name = \"ภาคเหนือ\",\n",
    "    #text = \"\"\n",
    ")\n",
    "\n",
    "trace3 = go.Scatter(\n",
    "    x = df_gini_expenditure['ปี'],\n",
    "    y = df_gini_expenditure['ภาคตะวันออกเฉียงเหนือ'],\n",
    "    mode = \"lines\",\n",
    "    #marker = dict(color = 'rgba(255, 99, 71, 0.5)'),\n",
    "    name = \"ภาคตะวันออกเฉียงเหนือ\",\n",
    "    #text = \"\"\n",
    ")\n",
    "\n",
    "trace4 = go.Scatter(\n",
    "    x = df_gini_expenditure['ปี'],\n",
    "    y = df_gini_expenditure['ภาคใต้'],\n",
    "    mode = \"lines\",\n",
    "    #marker = dict(color = 'rgba(80, 26, 80, 0.8)'),\n",
    "    name = \"ภาคใต้\",\n",
    "    #text = \"\"\n",
    ")\n",
    "\n",
    "# Create Layout\n",
    "layout = go.Layout(\n",
    "    title =\"GINI ratio / expenditure / Region\",\n",
    "    xaxis = dict(title= 'Years'),\n",
    "    yaxis = dict(title= 'Gini ratio'),\n",
    ")\n",
    "\n",
    "# Plot\n",
    "fig = go.Figure(data=[trace1, trace2], layout=layout)\n",
    "py.offline.iplot(fig)"
   ]
  },
  {
   "cell_type": "code",
   "execution_count": null,
   "metadata": {},
   "outputs": [],
   "source": []
  },
  {
   "cell_type": "markdown",
   "metadata": {},
   "source": [
    "# GDP per capita"
   ]
  },
  {
   "cell_type": "code",
   "execution_count": 26,
   "metadata": {},
   "outputs": [],
   "source": [
    "years = []\n",
    "for i in range(1960,2018):\n",
    "    years.append(i)"
   ]
  },
  {
   "cell_type": "markdown",
   "metadata": {},
   "source": [
    "## import data"
   ]
  },
  {
   "cell_type": "code",
   "execution_count": 27,
   "metadata": {},
   "outputs": [],
   "source": [
    "gdp_percapita = pd.read_excel(\"GDP_per_capita_thb.xlsx\")"
   ]
  },
  {
   "cell_type": "code",
   "execution_count": 28,
   "metadata": {},
   "outputs": [],
   "source": [
    "gdp_percapita = gdp_percapita.drop(columns=[\"Unnamed: 0\", \"Country.Code\", \"Indicator.Name\", \"Indicator.Code\",\"Country.Name\"])"
   ]
  },
  {
   "cell_type": "code",
   "execution_count": 29,
   "metadata": {},
   "outputs": [
    {
     "data": {
      "text/html": [
       "<div>\n",
       "<style scoped>\n",
       "    .dataframe tbody tr th:only-of-type {\n",
       "        vertical-align: middle;\n",
       "    }\n",
       "\n",
       "    .dataframe tbody tr th {\n",
       "        vertical-align: top;\n",
       "    }\n",
       "\n",
       "    .dataframe thead th {\n",
       "        text-align: right;\n",
       "    }\n",
       "</style>\n",
       "<table border=\"1\" class=\"dataframe\">\n",
       "  <thead>\n",
       "    <tr style=\"text-align: right;\">\n",
       "      <th></th>\n",
       "      <th>value</th>\n",
       "      <th>years</th>\n",
       "    </tr>\n",
       "  </thead>\n",
       "  <tbody>\n",
       "    <tr>\n",
       "      <th>2006</th>\n",
       "      <td>107469.587174</td>\n",
       "      <td>2006</td>\n",
       "    </tr>\n",
       "    <tr>\n",
       "      <th>1965</th>\n",
       "      <td>4399.585473</td>\n",
       "      <td>1965</td>\n",
       "    </tr>\n",
       "    <tr>\n",
       "      <th>1983</th>\n",
       "      <td>25452.538400</td>\n",
       "      <td>1983</td>\n",
       "    </tr>\n",
       "    <tr>\n",
       "      <th>1964</th>\n",
       "      <td>4017.418847</td>\n",
       "      <td>1964</td>\n",
       "    </tr>\n",
       "    <tr>\n",
       "      <th>2015</th>\n",
       "      <td>186499.987995</td>\n",
       "      <td>2015</td>\n",
       "    </tr>\n",
       "  </tbody>\n",
       "</table>\n",
       "</div>"
      ],
      "text/plain": [
       "              value  years\n",
       "2006  107469.587174   2006\n",
       "1965    4399.585473   1965\n",
       "1983   25452.538400   1983\n",
       "1964    4017.418847   1964\n",
       "2015  186499.987995   2015"
      ]
     },
     "execution_count": 29,
     "metadata": {},
     "output_type": "execute_result"
    }
   ],
   "source": [
    "gdp_percapita = gdp_percapita.T\n",
    "gdp_percapita = gdp_percapita.rename(columns={0:\"value\"})\n",
    "\n",
    "gdp_percapita[\"years\"] = years\n",
    "\n",
    "gdp_percapita.sample(5)"
   ]
  },
  {
   "cell_type": "code",
   "execution_count": 30,
   "metadata": {},
   "outputs": [
    {
     "data": {
      "application/vnd.plotly.v1+json": {
       "config": {
        "linkText": "Export to plot.ly",
        "plotlyServerURL": "https://plot.ly",
        "showLink": false
       },
       "data": [
        {
         "mode": "lines",
         "type": "scatter",
         "uid": "7002de8d-d22b-4b31-8d7e-f46f30e5654c",
         "x": [
          1960,
          1961,
          1962,
          1963,
          1964,
          1965,
          1966,
          1967,
          1968,
          1969,
          1970,
          1971,
          1972,
          1973,
          1974,
          1975,
          1976,
          1977,
          1978,
          1979,
          1980,
          1981,
          1982,
          1983,
          1984,
          1985,
          1986,
          1987,
          1988,
          1989,
          1990,
          1991,
          1992,
          1993,
          1994,
          1995,
          1996,
          1997,
          1998,
          1999,
          2000,
          2001,
          2002,
          2003,
          2004,
          2005,
          2006,
          2007,
          2008,
          2009,
          2010,
          2011,
          2012,
          2013,
          2014,
          2015,
          2016,
          2017
         ],
         "y": [
          3214.48632516,
          3429.18404356,
          3629.66180104,
          3768.76950593,
          4017.41884731,
          4399.58547281,
          5136.08130684,
          5324.89301421,
          5575.709447,
          5961.49286579,
          6128.8087135,
          6196.83828665,
          6678.47415235,
          8608.27161293,
          10594.53787612,
          11214.36578911,
          12488.30804771,
          14205.69190964,
          16859.34962382,
          18813.0531996,
          21780.47323045,
          22996.44730988,
          23691.34074615,
          25452.53839997,
          26088.69602185,
          23845.06282037,
          25941.09153185,
          29873.03324456,
          35824.0768666,
          41308.3360635,
          48114.3161906,
          54728.8561875,
          61470.9020475,
          70446.2148786,
          79440.9383493,
          90768.5890166,
          97068.6372491,
          78713.0233505,
          58870.3729922,
          64852.4494893,
          64041.3179494,
          60391.3375263,
          66864.1422823,
          75249.8870651,
          84848.8675452,
          92307.4782564,
          107469.5871744,
          126713.3865525,
          139680.1282514,
          134364.5513738,
          161902.1394144,
          175168.0033939,
          186930.4158436,
          196771.7967039,
          189926.0263032,
          186499.9879952,
          190739.4641174,
          210380.6315875
         ]
        }
       ],
       "layout": {
        "title": {
         "text": "GDP - per capita"
        },
        "xaxis": {
         "title": {
          "text": "Years"
         }
        },
        "yaxis": {
         "title": {
          "text": "Gini ratio"
         }
        }
       }
      },
      "text/html": [
       "<div id=\"bef4732d-af15-4d9a-abc3-dcef1190487a\" style=\"height: 525px; width: 100%;\" class=\"plotly-graph-div\"></div><script type=\"text/javascript\">require([\"plotly\"], function(Plotly) { window.PLOTLYENV=window.PLOTLYENV || {};window.PLOTLYENV.BASE_URL=\"https://plot.ly\";\n",
       "if (document.getElementById(\"bef4732d-af15-4d9a-abc3-dcef1190487a\")) {\n",
       "    Plotly.newPlot(\"bef4732d-af15-4d9a-abc3-dcef1190487a\", [{\"mode\": \"lines\", \"x\": [1960, 1961, 1962, 1963, 1964, 1965, 1966, 1967, 1968, 1969, 1970, 1971, 1972, 1973, 1974, 1975, 1976, 1977, 1978, 1979, 1980, 1981, 1982, 1983, 1984, 1985, 1986, 1987, 1988, 1989, 1990, 1991, 1992, 1993, 1994, 1995, 1996, 1997, 1998, 1999, 2000, 2001, 2002, 2003, 2004, 2005, 2006, 2007, 2008, 2009, 2010, 2011, 2012, 2013, 2014, 2015, 2016, 2017], \"y\": [3214.48632516, 3429.18404356, 3629.66180104, 3768.76950593, 4017.41884731, 4399.58547281, 5136.08130684, 5324.89301421, 5575.709447, 5961.49286579, 6128.8087135, 6196.83828665, 6678.47415235, 8608.27161293, 10594.53787612, 11214.36578911, 12488.30804771, 14205.69190964, 16859.34962382, 18813.0531996, 21780.47323045, 22996.44730988, 23691.34074615, 25452.53839997, 26088.69602185, 23845.06282037, 25941.09153185, 29873.03324456, 35824.0768666, 41308.3360635, 48114.3161906, 54728.8561875, 61470.9020475, 70446.2148786, 79440.9383493, 90768.5890166, 97068.6372491, 78713.0233505, 58870.3729922, 64852.4494893, 64041.3179494, 60391.3375263, 66864.1422823, 75249.8870651, 84848.8675452, 92307.4782564, 107469.5871744, 126713.3865525, 139680.1282514, 134364.5513738, 161902.1394144, 175168.0033939, 186930.4158436, 196771.7967039, 189926.0263032, 186499.9879952, 190739.4641174, 210380.6315875], \"type\": \"scatter\", \"uid\": \"7002de8d-d22b-4b31-8d7e-f46f30e5654c\"}], {\"title\": {\"text\": \"GDP - per capita\"}, \"xaxis\": {\"title\": {\"text\": \"Years\"}}, \"yaxis\": {\"title\": {\"text\": \"Gini ratio\"}}}, {\"showLink\": false, \"linkText\": \"Export to plot.ly\", \"plotlyServerURL\": \"https://plot.ly\"}); \n",
       "}\n",
       "});</script><script type=\"text/javascript\">window.addEventListener(\"resize\", function(){if (document.getElementById(\"bef4732d-af15-4d9a-abc3-dcef1190487a\")) {window._Plotly.Plots.resize(document.getElementById(\"bef4732d-af15-4d9a-abc3-dcef1190487a\"));};})</script>"
      ],
      "text/vnd.plotly.v1+html": [
       "<div id=\"bef4732d-af15-4d9a-abc3-dcef1190487a\" style=\"height: 525px; width: 100%;\" class=\"plotly-graph-div\"></div><script type=\"text/javascript\">require([\"plotly\"], function(Plotly) { window.PLOTLYENV=window.PLOTLYENV || {};window.PLOTLYENV.BASE_URL=\"https://plot.ly\";\n",
       "if (document.getElementById(\"bef4732d-af15-4d9a-abc3-dcef1190487a\")) {\n",
       "    Plotly.newPlot(\"bef4732d-af15-4d9a-abc3-dcef1190487a\", [{\"mode\": \"lines\", \"x\": [1960, 1961, 1962, 1963, 1964, 1965, 1966, 1967, 1968, 1969, 1970, 1971, 1972, 1973, 1974, 1975, 1976, 1977, 1978, 1979, 1980, 1981, 1982, 1983, 1984, 1985, 1986, 1987, 1988, 1989, 1990, 1991, 1992, 1993, 1994, 1995, 1996, 1997, 1998, 1999, 2000, 2001, 2002, 2003, 2004, 2005, 2006, 2007, 2008, 2009, 2010, 2011, 2012, 2013, 2014, 2015, 2016, 2017], \"y\": [3214.48632516, 3429.18404356, 3629.66180104, 3768.76950593, 4017.41884731, 4399.58547281, 5136.08130684, 5324.89301421, 5575.709447, 5961.49286579, 6128.8087135, 6196.83828665, 6678.47415235, 8608.27161293, 10594.53787612, 11214.36578911, 12488.30804771, 14205.69190964, 16859.34962382, 18813.0531996, 21780.47323045, 22996.44730988, 23691.34074615, 25452.53839997, 26088.69602185, 23845.06282037, 25941.09153185, 29873.03324456, 35824.0768666, 41308.3360635, 48114.3161906, 54728.8561875, 61470.9020475, 70446.2148786, 79440.9383493, 90768.5890166, 97068.6372491, 78713.0233505, 58870.3729922, 64852.4494893, 64041.3179494, 60391.3375263, 66864.1422823, 75249.8870651, 84848.8675452, 92307.4782564, 107469.5871744, 126713.3865525, 139680.1282514, 134364.5513738, 161902.1394144, 175168.0033939, 186930.4158436, 196771.7967039, 189926.0263032, 186499.9879952, 190739.4641174, 210380.6315875], \"type\": \"scatter\", \"uid\": \"7002de8d-d22b-4b31-8d7e-f46f30e5654c\"}], {\"title\": {\"text\": \"GDP - per capita\"}, \"xaxis\": {\"title\": {\"text\": \"Years\"}}, \"yaxis\": {\"title\": {\"text\": \"Gini ratio\"}}}, {\"showLink\": false, \"linkText\": \"Export to plot.ly\", \"plotlyServerURL\": \"https://plot.ly\"}); \n",
       "}\n",
       "});</script><script type=\"text/javascript\">window.addEventListener(\"resize\", function(){if (document.getElementById(\"bef4732d-af15-4d9a-abc3-dcef1190487a\")) {window._Plotly.Plots.resize(document.getElementById(\"bef4732d-af15-4d9a-abc3-dcef1190487a\"));};})</script>"
      ]
     },
     "metadata": {},
     "output_type": "display_data"
    }
   ],
   "source": [
    "# Create a trace\n",
    "trace = go.Scatter(\n",
    "    x = gdp_percapita['years'],\n",
    "    y = gdp_percapita['value'],\n",
    "    mode = \"lines\",\n",
    "    #marker = dict(color = 'rgba(255, 99, 71, 0.5)'),\n",
    ")\n",
    "\n",
    "# Create Layout\n",
    "layout = go.Layout(\n",
    "    title =\"GDP - per capita\",\n",
    "    xaxis = dict(title= 'Years'),\n",
    "    yaxis = dict(title= 'Gini ratio'),\n",
    ")\n",
    "\n",
    "# Plot\n",
    "fig = go.Figure(data=[trace], layout=layout)\n",
    "py.offline.iplot(fig)"
   ]
  },
  {
   "cell_type": "code",
   "execution_count": null,
   "metadata": {},
   "outputs": [],
   "source": []
  },
  {
   "cell_type": "code",
   "execution_count": null,
   "metadata": {},
   "outputs": [],
   "source": []
  },
  {
   "cell_type": "code",
   "execution_count": null,
   "metadata": {},
   "outputs": [],
   "source": []
  }
 ],
 "metadata": {
  "kernelspec": {
   "display_name": "Python 3",
   "language": "python",
   "name": "python3"
  },
  "language_info": {
   "codemirror_mode": {
    "name": "ipython",
    "version": 3
   },
   "file_extension": ".py",
   "mimetype": "text/x-python",
   "name": "python",
   "nbconvert_exporter": "python",
   "pygments_lexer": "ipython3",
   "version": "3.7.3"
  }
 },
 "nbformat": 4,
 "nbformat_minor": 2
}
