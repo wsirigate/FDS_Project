{
 "cells": [
  {
   "cell_type": "code",
   "execution_count": 2,
   "metadata": {},
   "outputs": [],
   "source": [
    "label <- c(\"2549\", \"2550\", \"2552\", \"2554\", \"2556\", \"2558\")\n",
    "debt <- c(17897.550438596492, 18571.048245614034, 21036.032894736843, 20587.189692982476, 24828.56558441559, 26057.702380952374)\n",
    "debt <- round(debt,2)\n",
    "gdp <- c(8400647, 9076303, 9658664, 11306907, 12921155, 13672851)"
   ]
  },
  {
   "cell_type": "code",
   "execution_count": 3,
   "metadata": {},
   "outputs": [],
   "source": [
    "df <- data.frame(label, debt, gdp)"
   ]
  },
  {
   "cell_type": "code",
   "execution_count": 4,
   "metadata": {},
   "outputs": [
    {
     "data": {
      "text/html": [
       "<table>\n",
       "<thead><tr><th scope=col>label</th><th scope=col>debt</th><th scope=col>gdp</th></tr></thead>\n",
       "<tbody>\n",
       "\t<tr><td>2549    </td><td>17897.55</td><td> 8400647</td></tr>\n",
       "\t<tr><td>2550    </td><td>18571.05</td><td> 9076303</td></tr>\n",
       "\t<tr><td>2552    </td><td>21036.03</td><td> 9658664</td></tr>\n",
       "\t<tr><td>2554    </td><td>20587.19</td><td>11306907</td></tr>\n",
       "\t<tr><td>2556    </td><td>24828.57</td><td>12921155</td></tr>\n",
       "\t<tr><td>2558    </td><td>26057.70</td><td>13672851</td></tr>\n",
       "</tbody>\n",
       "</table>\n"
      ],
      "text/latex": [
       "\\begin{tabular}{r|lll}\n",
       " label & debt & gdp\\\\\n",
       "\\hline\n",
       "\t 2549     & 17897.55 &  8400647\\\\\n",
       "\t 2550     & 18571.05 &  9076303\\\\\n",
       "\t 2552     & 21036.03 &  9658664\\\\\n",
       "\t 2554     & 20587.19 & 11306907\\\\\n",
       "\t 2556     & 24828.57 & 12921155\\\\\n",
       "\t 2558     & 26057.70 & 13672851\\\\\n",
       "\\end{tabular}\n"
      ],
      "text/markdown": [
       "\n",
       "label | debt | gdp | \n",
       "|---|---|---|---|---|---|\n",
       "| 2549     | 17897.55 |  8400647 | \n",
       "| 2550     | 18571.05 |  9076303 | \n",
       "| 2552     | 21036.03 |  9658664 | \n",
       "| 2554     | 20587.19 | 11306907 | \n",
       "| 2556     | 24828.57 | 12921155 | \n",
       "| 2558     | 26057.70 | 13672851 | \n",
       "\n",
       "\n"
      ],
      "text/plain": [
       "  label debt     gdp     \n",
       "1 2549  17897.55  8400647\n",
       "2 2550  18571.05  9076303\n",
       "3 2552  21036.03  9658664\n",
       "4 2554  20587.19 11306907\n",
       "5 2556  24828.57 12921155\n",
       "6 2558  26057.70 13672851"
      ]
     },
     "metadata": {},
     "output_type": "display_data"
    }
   ],
   "source": [
    "df"
   ]
  },
  {
   "cell_type": "code",
   "execution_count": 9,
   "metadata": {},
   "outputs": [
    {
     "data": {
      "text/plain": [
       "\n",
       "\tPearson's product-moment correlation\n",
       "\n",
       "data:  df$debt and df$gdp\n",
       "t = 6.6499, df = 4, p-value = 0.002655\n",
       "alternative hypothesis: true correlation is not equal to 0\n",
       "95 percent confidence interval:\n",
       " 0.6555076 0.9955070\n",
       "sample estimates:\n",
       "      cor \n",
       "0.9576264 \n"
      ]
     },
     "metadata": {},
     "output_type": "display_data"
    }
   ],
   "source": [
    "cor.test(df$debt, df$gdp)"
   ]
  },
  {
   "cell_type": "code",
   "execution_count": 10,
   "metadata": {},
   "outputs": [
    {
     "data": {
      "image/png": "[encoded data removed]",
      "text/plain": [
       "Plot with title \"Corillation between debt and GDP\""
      ]
     },
     "metadata": {},
     "output_type": "display_data",
     "source": "R display func"
    }
   ],
   "source": [
    "plot(df$gdp, df$debt, main=\"Corillation between debt and GDP\", xlab=\"GDP\", ylab=\"avg debt\", pch=19)"
   ]
  },
  {
   "cell_type": "code",
   "execution_count": 8,
   "metadata": {},
   "outputs": [],
   "source": [
    "# ?plot"
   ]
  },
  {
   "cell_type": "code",
   "execution_count": null,
   "metadata": {},
   "outputs": [],
   "source": []
  }
 ],
 "metadata": {
  "kernelspec": {
   "display_name": "R",
   "language": "R",
   "name": "ir"
  },
  "language_info": {
   "codemirror_mode": "r",
   "file_extension": ".r",
   "mimetype": "text/x-r-source",
   "name": "R",
   "pygments_lexer": "r",
   "version": "3.5.1"
  }
 },
 "nbformat": 4,
 "nbformat_minor": 2
}
