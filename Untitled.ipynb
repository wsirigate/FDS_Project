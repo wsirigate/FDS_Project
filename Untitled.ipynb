{
 "cells": [
  {
   "cell_type": "markdown",
   "metadata": {},
   "source": [
    "# Import Libary"
   ]
  },
  {
   "cell_type": "code",
   "execution_count": 3,
   "metadata": {},
   "outputs": [],
   "source": [
    "import pandas as pd\n",
    "import seaborn as sb\n",
    "import matplotlib.pyplot as plt\n",
    "\n",
    "import plotly\n",
    "import plotly.graph_objs as go\n",
    "from plotly.graph_objs import Scatter, Layout\n",
    "from plotly.offline import download_plotlyjs, init_notebook_mode, plot, iplot\n",
    "\n",
    "import IPython"
   ]
  },
  {
   "cell_type": "markdown",
   "metadata": {},
   "source": [
    "# Import Data"
   ]
  },
  {
   "cell_type": "code",
   "execution_count": 2,
   "metadata": {},
   "outputs": [],
   "source": [
    "# สัมประสิทธิ์ความไม่เสมอภาค (Gini coefficient) ของรายได้ จำแนกตามภาค และเขตพื้นที่ พ.ศ. 2531 - 2560\n",
    "df_gini_income = pd.read_excel(\"gini_income.xlsx\")\n",
    "\n",
    "# สัมประสิทธิ์ความไม่เสมอภาค (Gini coefficient) ของรายจ่ายเพื่อการอุปโภคบริโภค จำแนกตามภาค พ.ศ. 2531 - 2560\n",
    "df_gini_expenditure = pd.read_excel(\"gnini_expenditure.xls\")\n",
    "df_gini_expenditure2 = pd.read_excel(\"gnini_expenditure.xls\", \"เขตพื้นที่\")"
   ]
  },
  {
   "cell_type": "markdown",
   "metadata": {},
   "source": [
    "### แสดงว่าความไม่เท่าเทียมกันของรายได้ (ภาค/ปี)"
   ]
  },
  {
   "cell_type": "code",
   "execution_count": 4,
   "metadata": {},
   "outputs": [
    {
     "name": "stderr",
     "output_type": "stream",
     "text": [
      "C:\\Users\\60070158\\AppData\\Local\\Continuum\\anaconda3\\lib\\site-packages\\IPython\\core\\display.py:689: UserWarning:\n",
      "\n",
      "Consider using IPython.display.IFrame instead\n",
      "\n"
     ]
    },
    {
     "data": {
      "text/html": [
       "<iframe width= \"1000\" height= \"500\" frameborder= \"0\" scrolling=\"no\" src=\"temp-plot.html\"></iframe>"
      ],
      "text/plain": [
       "<IPython.core.display.HTML object>"
      ]
     },
     "execution_count": 4,
     "metadata": {},
     "output_type": "execute_result"
    }
   ],
   "source": [
    "# Create a trace\n",
    "trace1 = go.Scatter(\n",
    "    x = df_gini_income['ปี'],\n",
    "    y = df_gini_income['ภาคกลาง'],\n",
    "    mode = \"lines\",\n",
    "    #marker = dict(color = 'rgba(255, 99, 71, 0.5)'),\n",
    "    name = \"ภาคกลาง\",\n",
    "    #text = \"\"\n",
    ")\n",
    "\n",
    "trace2 = go.Scatter(\n",
    "    x = df_gini_income['ปี'],\n",
    "    y = df_gini_income['ภาคเหนือ'],\n",
    "    mode = \"lines\",\n",
    "    #marker = dict(color = 'rgba(80, 26, 80, 0.8)'),\n",
    "    name = \"ภาคเหนือ\",\n",
    "    #text = \"\"\n",
    ")\n",
    "\n",
    "trace3 = go.Scatter(\n",
    "    x = df_gini_income['ปี'],\n",
    "    y = df_gini_income['ภาคตะวันออกเฉียงเหนือ'],\n",
    "    mode = \"lines\",\n",
    "    #marker = dict(color = 'rgba(255, 99, 71, 0.5)'),\n",
    "    name = \"ภาคตะวันออกเฉียงเหนือ\",\n",
    "    #text = \"\"\n",
    ")\n",
    "\n",
    "trace4 = go.Scatter(\n",
    "    x = df_gini_income['ปี'],\n",
    "    y = df_gini_income['ภาคใต้'],\n",
    "    mode = \"lines\",\n",
    "    #marker = dict(color = 'rgba(80, 26, 80, 0.8)'),\n",
    "    name = \"ภาคใต้\",\n",
    "    #text = \"\"\n",
    ")\n",
    "\n",
    "# Plot\n",
    "plotly.offline.plot({\n",
    "\"data\": [\n",
    "    trace1, trace2, trace3, trace4\n",
    "],\n",
    "\"layout\": Layout(\n",
    "    title=\"GINI ratio / expenditure / Region\",\n",
    "    xaxis= dict(title= 'Years'),\n",
    "    yaxis= dict(title= 'Gini ratio')\n",
    "    #xaxis= dict(title= 'Years', ticklen= 5, zeroline= False),\n",
    "    #yaxis= dict(title= 'Gini ratio', ticklen= 5, zeroline= False)\n",
    ")\n",
    "})\n",
    "\n",
    "# plotly.offline.plot(data, layout, filename='basic histogram.html')\n",
    "\n",
    "# Show graph\n",
    "iframe = '<iframe width= \"1000\" height= \"500\" frameborder= \"0\" scrolling=\"no\" src=\"temp-plot.html\"></iframe>'\n",
    "IPython.display.HTML(iframe)"
   ]
  },
  {
   "cell_type": "markdown",
   "metadata": {},
   "source": [
    "### แสดงว่าความไม่เท่าเทียมกันของรายได้ในเขตเมืองและชนบท"
   ]
  },
  {
   "cell_type": "code",
   "execution_count": 5,
   "metadata": {},
   "outputs": [
    {
     "name": "stderr",
     "output_type": "stream",
     "text": [
      "C:\\Users\\60070158\\AppData\\Local\\Continuum\\anaconda3\\lib\\site-packages\\IPython\\core\\display.py:689: UserWarning:\n",
      "\n",
      "Consider using IPython.display.IFrame instead\n",
      "\n"
     ]
    },
    {
     "data": {
      "text/html": [
       "<iframe width= \"1000\" height= \"500\" frameborder= \"0\" scrolling=\"no\" src=\"temp-plot.html\"></iframe>"
      ],
      "text/plain": [
       "<IPython.core.display.HTML object>"
      ]
     },
     "execution_count": 5,
     "metadata": {},
     "output_type": "execute_result"
    }
   ],
   "source": [
    "# Create a trace\n",
    "trace1 = go.Scatter(\n",
    "    x = df_gini_income['ปี'],\n",
    "    y = df_gini_income['เขตเมือง'],\n",
    "    mode = \"lines\",\n",
    "    marker = dict(color = 'rgba(255, 99, 71, 0.5)'),\n",
    "    name = \"เขตเมือง\",\n",
    "    #text = \"\"\n",
    ")\n",
    "\n",
    "trace2 = go.Scatter(\n",
    "    x = df_gini_income['ปี'],\n",
    "    y = df_gini_income['เขตชนบท'],\n",
    "    mode = \"lines\",\n",
    "    marker = dict(color = 'rgba(80, 26, 80, 0.8)'),\n",
    "    name = \"เขตชนบท\",\n",
    "    #text = \"\"\n",
    ")\n",
    "\n",
    "# Plot\n",
    "plotly.offline.plot({\n",
    "\"data\": [\n",
    "    trace1, trace2\n",
    "],\n",
    "\"layout\": Layout(\n",
    "    title=\"GINI ratio in city and countryside\",\n",
    "    xaxis= dict(title= 'Years'),\n",
    "    yaxis= dict(title= 'Gini ratio')\n",
    "    #xaxis= dict(title= 'Years', ticklen= 5, zeroline= False),\n",
    "    #yaxis= dict(title= 'Gini ratio', ticklen= 5, zeroline= False)\n",
    ")\n",
    "})\n",
    "\n",
    "# plotly.offline.plot(data, layout, filename='basic histogram.html')\n",
    "\n",
    "# Show graph\n",
    "iframe = '<iframe width= \"1000\" height= \"500\" frameborder= \"0\" scrolling=\"no\" src=\"temp-plot.html\"></iframe>'\n",
    "IPython.display.HTML(iframe)"
   ]
  },
  {
   "cell_type": "markdown",
   "metadata": {},
   "source": [
    "### แสดงว่าความไม่เท่าเทียมกันของรายได้ทั่วราชอาณาจักร"
   ]
  },
  {
   "cell_type": "code",
   "execution_count": 6,
   "metadata": {},
   "outputs": [
    {
     "name": "stderr",
     "output_type": "stream",
     "text": [
      "C:\\Users\\60070158\\AppData\\Local\\Continuum\\anaconda3\\lib\\site-packages\\IPython\\core\\display.py:689: UserWarning:\n",
      "\n",
      "Consider using IPython.display.IFrame instead\n",
      "\n"
     ]
    },
    {
     "data": {
      "text/html": [
       "<iframe width= \"1000\" height= \"500\" frameborder= \"0\" scrolling=\"no\" src=\"temp-plot.html\"></iframe>"
      ],
      "text/plain": [
       "<IPython.core.display.HTML object>"
      ]
     },
     "execution_count": 6,
     "metadata": {},
     "output_type": "execute_result"
    }
   ],
   "source": [
    "# Create a trace\n",
    "trace = go.Scatter(\n",
    "    x = df_gini_income['ปี'],\n",
    "    y = df_gini_income['ทั่วราชอาณาจักร'],\n",
    "    mode = \"lines\",\n",
    "    marker = dict(color = 'rgba(255, 99, 71, 0.5)'),\n",
    ")\n",
    "\n",
    "# Plot\n",
    "plotly.offline.plot({\n",
    "\"data\": [\n",
    "    trace\n",
    "],\n",
    "\"layout\": Layout(\n",
    "    title=\"GINI ratio Throughout the kingdom\",\n",
    "    xaxis= dict(title= 'Years'),\n",
    "    yaxis= dict(title= 'Gini ratio')\n",
    "#     xaxis= dict(title= 'Years',ticklen= 5,zeroline= False),\n",
    "#     yaxis= dict(title= 'Gini ratio',ticklen= 5,zeroline= False)\n",
    ")\n",
    "})\n",
    "\n",
    "# plotly.offline.plot(data, layout, filename='basic histogram.html')\n",
    "\n",
    "# Show graph\n",
    "iframe = '<iframe width= \"1000\" height= \"500\" frameborder= \"0\" scrolling=\"no\" src=\"temp-plot.html\"></iframe>'\n",
    "IPython.display.HTML(iframe)"
   ]
  },
  {
   "cell_type": "code",
   "execution_count": null,
   "metadata": {},
   "outputs": [],
   "source": []
  }
 ],
 "metadata": {
  "kernelspec": {
   "display_name": "Python 3",
   "language": "python",
   "name": "python3"
  },
  "language_info": {
   "codemirror_mode": {
    "name": "ipython",
    "version": 3
   },
   "file_extension": ".py",
   "mimetype": "text/x-python",
   "name": "python",
   "nbconvert_exporter": "python",
   "pygments_lexer": "ipython3",
   "version": "3.7.3"
  }
 },
 "nbformat": 4,
 "nbformat_minor": 2
}
